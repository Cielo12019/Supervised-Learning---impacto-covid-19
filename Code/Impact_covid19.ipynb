{
 "cells": [
  {
   "cell_type": "markdown",
   "metadata": {},
   "source": [
    "<h2><font color=\"#004D7F\" size=6>Supervised Learning</font></h2>\n",
    "\n",
    "\n",
    "\n",
    "<h1><font color=\"#004D7F\" size=5>Impacto del Covid 19 en las Industrias</font></h1>\n",
    "\n",
    "<br><br>\n",
    "<div style=\"text-align: right\">\n"
   ]
  },
  {
   "cell_type": "code",
   "execution_count": null,
   "metadata": {},
   "outputs": [],
   "source": [
    "# Permite ajustar la anchura de la parte útil de la libreta (reduce los márgenes)\n",
    "from IPython.core.display import display, HTML\n",
    "display(HTML(\"<style>.container{ width:98% }</style>\"))"
   ]
  },
  {
   "cell_type": "markdown",
   "metadata": {},
   "source": [
    "---\n",
    "\n",
    "<a id=\"section1\"></a>\n",
    "# <font color=\"#004D7F\"> 1. Introducción</font>\n"
   ]
  },
  {
   "cell_type": "markdown",
   "metadata": {},
   "source": [
    "El enfoque de este proyecto será el conjunto de datos [Impacto Covid en las Industrias]. El problema consiste en predecir si las empresas han sido impactadas por el Covid mediante algunas variables como \"Sector\", \"Deuda\", \"Venta\", entre otras; con esas variables se va a calcular la clase o variable de salida \"Impactado\". La etiqueta asociada al impacto es 1, no impacto es 0."
   ]
  },
  {
   "cell_type": "markdown",
   "metadata": {},
   "source": [
    "<a id=\"section11\"></a>\n",
    "## <font color=\"#004D7F\"> 1.1. Importar librerías</font>"
   ]
  },
  {
   "cell_type": "markdown",
   "metadata": {},
   "source": [
    "Primero, importemos todos los módulos, funciones y objetos que vamos a utilizar en este tutorial."
   ]
  },
  {
   "cell_type": "code",
   "execution_count": 1,
   "metadata": {},
   "outputs": [],
   "source": [
    "# Load libraries\n",
    "import pandas as pd\n",
    "import pandas_profiling\n",
    "import numpy as np\n",
    "import matplotlib.pyplot as plt\n",
    "import seaborn as sns\n",
    "from sklearn.model_selection import train_test_split\n",
    "from sklearn.model_selection import KFold\n",
    "from sklearn.model_selection import cross_val_score\n",
    "from sklearn.metrics import classification_report\n",
    "from sklearn.metrics import confusion_matrix\n",
    "from sklearn.metrics import accuracy_score\n",
    "from sklearn.linear_model import LogisticRegression\n",
    "from sklearn.tree import DecisionTreeClassifier\n",
    "from sklearn.neighbors import KNeighborsClassifier\n",
    "from sklearn.discriminant_analysis import LinearDiscriminantAnalysis\n",
    "from sklearn.naive_bayes import GaussianNB\n",
    "from sklearn.svm import SVC\n",
    "from sklearn.preprocessing import StandardScaler\n",
    "from lightgbm import LGBMClassifier\n",
    "from sklearn.metrics import roc_auc_score\n",
    "from sklearn.pipeline import Pipeline\n",
    "from sklearn.preprocessing import MinMaxScaler\n",
    "from sklearn.model_selection import RandomizedSearchCV\n",
    "from sklearn.preprocessing import PowerTransformer\n",
    "from sklearn.ensemble import AdaBoostClassifier\n",
    "from sklearn.ensemble import GradientBoostingClassifier\n",
    "from sklearn.ensemble import RandomForestClassifier\n",
    "from sklearn.ensemble import ExtraTreesClassifier\n",
    "from imblearn.over_sampling import SMOTE\n",
    "import missingno as msno\n",
    "\n",
    "from catboost import CatBoostClassifier\n",
    "from sklearn import preprocessing\n",
    "import warnings\n",
    "import re\n",
    "import gc\n",
    "\n",
    "warnings.filterwarnings('ignore')"
   ]
  },
  {
   "cell_type": "markdown",
   "metadata": {},
   "source": [
    "<a id=\"section12\"></a>\n",
    "## <font color=\"#004D7F\"> 1.2. Cargar el dataset</font>"
   ]
  },
  {
   "cell_type": "markdown",
   "metadata": {},
   "source": [
    "El conjunto de datos a trabajar se encuentra en la misma carpeta de trabajo que el archivo de Python del proyecto."
   ]
  },
  {
   "cell_type": "code",
   "execution_count": 2,
   "metadata": {},
   "outputs": [],
   "source": [
    "# Load dataset\n",
    "filename = \"Data_cov.csv\"\n",
    "df = pd.read_csv(filename, sep = \";\", encoding = 'ansi') #, index_col=\"key_value\")"
   ]
  },
  {
   "cell_type": "markdown",
   "metadata": {},
   "source": [
    "<div style=\"text-align: right\"> <font size=5>\n",
    "    <a href=\"#indice\"><i class=\"fa fa-arrow-circle-up\" aria-hidden=\"true\" style=\"color:#004D7F\"></i></a>\n",
    "</font></div>\n",
    "\n",
    "---"
   ]
  },
  {
   "cell_type": "markdown",
   "metadata": {},
   "source": [
    "<a id=\"section2\"></a>\n",
    "# <font color=\"#004D7F\"> 2. Estadística descriptiva</font>"
   ]
  },
  {
   "cell_type": "markdown",
   "metadata": {},
   "source": [
    "Ahora es el momento de estudiar nuestros datos. En este paso vamos a explorar nuestros datos de diferentes maneras:\n",
    "* Dimensiones del conjunto de datos.\n",
    "* Visualización de datos.\n",
    "* Resumen estadístico de todos los atributos.\n",
    "* Desglosar las instancias en cada clase.\n",
    "* Tipo de atributos"
   ]
  },
  {
   "cell_type": "markdown",
   "metadata": {},
   "source": [
    "<a id=\"section21\"></a>\n",
    "## <font color=\"#004D7F\"> 2.1. Dimensiones del conjunto de datos</font>"
   ]
  },
  {
   "cell_type": "markdown",
   "metadata": {},
   "source": [
    "Podemos tener una idea rápida de cuántas instancias (filas) y cuántos atributos o variables (columnas) hay en nuestro conjunto de datos con la propiedad `shape`. "
   ]
  },
  {
   "cell_type": "code",
   "execution_count": 3,
   "metadata": {
    "scrolled": true
   },
   "outputs": [
    {
     "data": {
      "text/plain": [
       "(1998, 19)"
      ]
     },
     "execution_count": 3,
     "metadata": {},
     "output_type": "execute_result"
    }
   ],
   "source": [
    "# shape\n",
    "df.shape"
   ]
  },
  {
   "cell_type": "markdown",
   "metadata": {},
   "source": [
    "Puede verse 1998 instancias y 19 atributos (incluyendo la clase)."
   ]
  },
  {
   "cell_type": "markdown",
   "metadata": {},
   "source": [
    "<a id=\"section22\"></a>\n",
    "## <font color=\"#004D7F\"> 2.2. Visualización de datos</font>"
   ]
  },
  {
   "cell_type": "markdown",
   "metadata": {},
   "source": [
    "Vamos a ver como están representados los datos con la función `head()`"
   ]
  },
  {
   "cell_type": "code",
   "execution_count": 4,
   "metadata": {
    "scrolled": true
   },
   "outputs": [
    {
     "data": {
      "text/html": [
       "<div>\n",
       "<style scoped>\n",
       "    .dataframe tbody tr th:only-of-type {\n",
       "        vertical-align: middle;\n",
       "    }\n",
       "\n",
       "    .dataframe tbody tr th {\n",
       "        vertical-align: top;\n",
       "    }\n",
       "\n",
       "    .dataframe thead th {\n",
       "        text-align: right;\n",
       "    }\n",
       "</style>\n",
       "<table border=\"1\" class=\"dataframe\">\n",
       "  <thead>\n",
       "    <tr style=\"text-align: right;\">\n",
       "      <th></th>\n",
       "      <th>Sector</th>\n",
       "      <th>Dep</th>\n",
       "      <th>Impactado</th>\n",
       "      <th>Saldo</th>\n",
       "      <th>Desembolso_mes</th>\n",
       "      <th>Saldo Promedio</th>\n",
       "      <th>Deuda Sistea,</th>\n",
       "      <th>Pasivo</th>\n",
       "      <th>Turismo</th>\n",
       "      <th>Sector de Impacto</th>\n",
       "      <th>Venta</th>\n",
       "      <th>Venta Formal</th>\n",
       "      <th>Pasivo_desembolso</th>\n",
       "      <th>Deuda rezagada va</th>\n",
       "      <th>Deuda rezagada vr</th>\n",
       "      <th>pasivo rezagada va</th>\n",
       "      <th>pasivo rezagada vr</th>\n",
       "      <th>Pasivo_desembolso da</th>\n",
       "      <th>Pasivo_desembolso dr</th>\n",
       "    </tr>\n",
       "  </thead>\n",
       "  <tbody>\n",
       "    <tr>\n",
       "      <th>0</th>\n",
       "      <td>INDUSTRIA</td>\n",
       "      <td>Lima</td>\n",
       "      <td>0</td>\n",
       "      <td>56643.10092</td>\n",
       "      <td>0.0</td>\n",
       "      <td>28321.55046</td>\n",
       "      <td>31365.73</td>\n",
       "      <td>5876.82</td>\n",
       "      <td>0</td>\n",
       "      <td>3</td>\n",
       "      <td>108400.0</td>\n",
       "      <td>43741.08</td>\n",
       "      <td>5876.82</td>\n",
       "      <td>-800.65</td>\n",
       "      <td>-0.024891</td>\n",
       "      <td>830.82</td>\n",
       "      <td>0.164649</td>\n",
       "      <td>830.82</td>\n",
       "      <td>0.164649</td>\n",
       "    </tr>\n",
       "    <tr>\n",
       "      <th>1</th>\n",
       "      <td>COMERCIO</td>\n",
       "      <td>Arequipa</td>\n",
       "      <td>0</td>\n",
       "      <td>190313.99460</td>\n",
       "      <td>0.0</td>\n",
       "      <td>63437.99818</td>\n",
       "      <td>64864.99</td>\n",
       "      <td>4467.40</td>\n",
       "      <td>0</td>\n",
       "      <td>4</td>\n",
       "      <td>105300.0</td>\n",
       "      <td>69737.17</td>\n",
       "      <td>4467.40</td>\n",
       "      <td>-2810.52</td>\n",
       "      <td>-0.041529</td>\n",
       "      <td>-7043.43</td>\n",
       "      <td>-0.611896</td>\n",
       "      <td>-7043.43</td>\n",
       "      <td>-0.611896</td>\n",
       "    </tr>\n",
       "    <tr>\n",
       "      <th>2</th>\n",
       "      <td>SERVICIO</td>\n",
       "      <td>Amazonas</td>\n",
       "      <td>0</td>\n",
       "      <td>547601.57360</td>\n",
       "      <td>0.0</td>\n",
       "      <td>182533.85790</td>\n",
       "      <td>200239.32</td>\n",
       "      <td>5000.92</td>\n",
       "      <td>0</td>\n",
       "      <td>1</td>\n",
       "      <td>86600.0</td>\n",
       "      <td>79178.83</td>\n",
       "      <td>5000.92</td>\n",
       "      <td>653.68</td>\n",
       "      <td>0.003275</td>\n",
       "      <td>2000.92</td>\n",
       "      <td>0.666973</td>\n",
       "      <td>2000.92</td>\n",
       "      <td>0.666973</td>\n",
       "    </tr>\n",
       "    <tr>\n",
       "      <th>3</th>\n",
       "      <td>INDUSTRIA</td>\n",
       "      <td>Lima</td>\n",
       "      <td>0</td>\n",
       "      <td>283914.20840</td>\n",
       "      <td>0.0</td>\n",
       "      <td>94638.06947</td>\n",
       "      <td>112945.17</td>\n",
       "      <td>325.50</td>\n",
       "      <td>0</td>\n",
       "      <td>3</td>\n",
       "      <td>103000.0</td>\n",
       "      <td>0.00</td>\n",
       "      <td>325.50</td>\n",
       "      <td>14820.77</td>\n",
       "      <td>0.151041</td>\n",
       "      <td>-17128.30</td>\n",
       "      <td>-0.981351</td>\n",
       "      <td>-17128.30</td>\n",
       "      <td>-0.981351</td>\n",
       "    </tr>\n",
       "    <tr>\n",
       "      <th>4</th>\n",
       "      <td>COMERCIO</td>\n",
       "      <td>Cusco</td>\n",
       "      <td>0</td>\n",
       "      <td>142296.43840</td>\n",
       "      <td>0.0</td>\n",
       "      <td>47432.14612</td>\n",
       "      <td>144877.21</td>\n",
       "      <td>0.00</td>\n",
       "      <td>0</td>\n",
       "      <td>4</td>\n",
       "      <td>172920.0</td>\n",
       "      <td>171999.33</td>\n",
       "      <td>0.00</td>\n",
       "      <td>17468.60</td>\n",
       "      <td>0.137107</td>\n",
       "      <td>-2071.80</td>\n",
       "      <td>-1.000000</td>\n",
       "      <td>-2071.80</td>\n",
       "      <td>-1.000000</td>\n",
       "    </tr>\n",
       "  </tbody>\n",
       "</table>\n",
       "</div>"
      ],
      "text/plain": [
       "      Sector       Dep  Impactado         Saldo  Desembolso_mes  Saldo Promedio  Deuda Sistea,  \\\n",
       "0  INDUSTRIA      Lima          0   56643.10092             0.0     28321.55046       31365.73   \n",
       "1   COMERCIO  Arequipa          0  190313.99460             0.0     63437.99818       64864.99   \n",
       "2   SERVICIO  Amazonas          0  547601.57360             0.0    182533.85790      200239.32   \n",
       "3  INDUSTRIA      Lima          0  283914.20840             0.0     94638.06947      112945.17   \n",
       "4   COMERCIO     Cusco          0  142296.43840             0.0     47432.14612      144877.21   \n",
       "\n",
       "    Pasivo  Turismo  Sector de Impacto    Venta   Venta Formal  Pasivo_desembolso  \\\n",
       "0  5876.82        0                  3  108400.0      43741.08            5876.82   \n",
       "1  4467.40        0                  4  105300.0      69737.17            4467.40   \n",
       "2  5000.92        0                  1   86600.0      79178.83            5000.92   \n",
       "3   325.50        0                  3  103000.0          0.00             325.50   \n",
       "4     0.00        0                  4  172920.0     171999.33               0.00   \n",
       "\n",
       "   Deuda rezagada va  Deuda rezagada vr  pasivo rezagada va  pasivo rezagada vr  \\\n",
       "0            -800.65          -0.024891              830.82            0.164649   \n",
       "1           -2810.52          -0.041529            -7043.43           -0.611896   \n",
       "2             653.68           0.003275             2000.92            0.666973   \n",
       "3           14820.77           0.151041           -17128.30           -0.981351   \n",
       "4           17468.60           0.137107            -2071.80           -1.000000   \n",
       "\n",
       "   Pasivo_desembolso da  Pasivo_desembolso dr  \n",
       "0                830.82              0.164649  \n",
       "1              -7043.43             -0.611896  \n",
       "2               2000.92              0.666973  \n",
       "3             -17128.30             -0.981351  \n",
       "4              -2071.80             -1.000000  "
      ]
     },
     "execution_count": 4,
     "metadata": {},
     "output_type": "execute_result"
    }
   ],
   "source": [
    "# head\n",
    "pd.set_option('display.width', 100)\n",
    "df.head(5)"
   ]
  },
  {
   "cell_type": "markdown",
   "metadata": {},
   "source": [
    "Podemos ver las primeras 5 filas de los datos y todas las columnas."
   ]
  },
  {
   "cell_type": "markdown",
   "metadata": {},
   "source": [
    "Explorando los datos gráficamente"
   ]
  },
  {
   "cell_type": "code",
   "execution_count": 5,
   "metadata": {},
   "outputs": [
    {
     "data": {
      "text/plain": [
       "<AxesSubplot:>"
      ]
     },
     "execution_count": 5,
     "metadata": {},
     "output_type": "execute_result"
    },
    {
     "data": {
      "image/png": "[encoded data removed]",
      "text/plain": [
       "<Figure size 1728x720 with 3 Axes>"
      ]
     },
     "metadata": {
      "needs_background": "light"
     },
     "output_type": "display_data"
    }
   ],
   "source": [
    "msno.bar(df)"
   ]
  },
  {
   "cell_type": "markdown",
   "metadata": {},
   "source": [
    "No hay valores perdidos, todas las columnas tienen la misma cantidad de datos."
   ]
  },
  {
   "cell_type": "markdown",
   "metadata": {},
   "source": [
    "<a id=\"section23\"></a>\n",
    "## <font color=\"#004D7F\"> 2.3. Resumen estadístico</font>"
   ]
  },
  {
   "cell_type": "markdown",
   "metadata": {},
   "source": [
    "En este caso podemos echar un vistazo a un resumen de cada atributo con la función `describe()`. Esto incluye la media, los valores mínimo y máximo, así como algunos percentiles."
   ]
  },
  {
   "cell_type": "code",
   "execution_count": 6,
   "metadata": {
    "scrolled": false
   },
   "outputs": [
    {
     "data": {
      "text/html": [
       "<div>\n",
       "<style scoped>\n",
       "    .dataframe tbody tr th:only-of-type {\n",
       "        vertical-align: middle;\n",
       "    }\n",
       "\n",
       "    .dataframe tbody tr th {\n",
       "        vertical-align: top;\n",
       "    }\n",
       "\n",
       "    .dataframe thead th {\n",
       "        text-align: right;\n",
       "    }\n",
       "</style>\n",
       "<table border=\"1\" class=\"dataframe\">\n",
       "  <thead>\n",
       "    <tr style=\"text-align: right;\">\n",
       "      <th></th>\n",
       "      <th>Impactado</th>\n",
       "      <th>Saldo</th>\n",
       "      <th>Desembolso_mes</th>\n",
       "      <th>Saldo Promedio</th>\n",
       "      <th>Deuda Sistea,</th>\n",
       "      <th>Pasivo</th>\n",
       "      <th>Turismo</th>\n",
       "      <th>Sector de Impacto</th>\n",
       "      <th>Venta</th>\n",
       "      <th>Venta Formal</th>\n",
       "      <th>Pasivo_desembolso</th>\n",
       "      <th>Deuda rezagada va</th>\n",
       "      <th>Deuda rezagada vr</th>\n",
       "      <th>pasivo rezagada va</th>\n",
       "      <th>pasivo rezagada vr</th>\n",
       "      <th>Pasivo_desembolso da</th>\n",
       "      <th>Pasivo_desembolso dr</th>\n",
       "    </tr>\n",
       "  </thead>\n",
       "  <tbody>\n",
       "    <tr>\n",
       "      <th>count</th>\n",
       "      <td>1998.0</td>\n",
       "      <td>1.998e+03</td>\n",
       "      <td>1998.000</td>\n",
       "      <td>1.998e+03</td>\n",
       "      <td>1.998e+03</td>\n",
       "      <td>1.998e+03</td>\n",
       "      <td>1998.000</td>\n",
       "      <td>1998.000</td>\n",
       "      <td>1.998e+03</td>\n",
       "      <td>1.998e+03</td>\n",
       "      <td>1.998e+03</td>\n",
       "      <td>1998.000</td>\n",
       "      <td>1998.000</td>\n",
       "      <td>1.998e+03</td>\n",
       "      <td>1998.000</td>\n",
       "      <td>1.998e+03</td>\n",
       "      <td>1998.000</td>\n",
       "    </tr>\n",
       "    <tr>\n",
       "      <th>mean</th>\n",
       "      <td>0.5</td>\n",
       "      <td>4.804e+05</td>\n",
       "      <td>298.122</td>\n",
       "      <td>1.617e+05</td>\n",
       "      <td>2.484e+05</td>\n",
       "      <td>2.418e+04</td>\n",
       "      <td>0.055</td>\n",
       "      <td>3.050</td>\n",
       "      <td>1.003e+05</td>\n",
       "      <td>3.855e+04</td>\n",
       "      <td>2.387e+04</td>\n",
       "      <td>-3084.037</td>\n",
       "      <td>0.028</td>\n",
       "      <td>-1.743e+04</td>\n",
       "      <td>852.140</td>\n",
       "      <td>-1.478e+04</td>\n",
       "      <td>852.447</td>\n",
       "    </tr>\n",
       "    <tr>\n",
       "      <th>std</th>\n",
       "      <td>0.5</td>\n",
       "      <td>6.506e+05</td>\n",
       "      <td>6688.538</td>\n",
       "      <td>2.186e+05</td>\n",
       "      <td>2.893e+05</td>\n",
       "      <td>1.073e+05</td>\n",
       "      <td>0.228</td>\n",
       "      <td>0.935</td>\n",
       "      <td>1.184e+05</td>\n",
       "      <td>9.858e+04</td>\n",
       "      <td>1.070e+05</td>\n",
       "      <td>48407.921</td>\n",
       "      <td>0.545</td>\n",
       "      <td>9.419e+04</td>\n",
       "      <td>21057.347</td>\n",
       "      <td>8.636e+04</td>\n",
       "      <td>21057.339</td>\n",
       "    </tr>\n",
       "    <tr>\n",
       "      <th>min</th>\n",
       "      <td>0.0</td>\n",
       "      <td>1.107e+02</td>\n",
       "      <td>0.000</td>\n",
       "      <td>5.536e+01</td>\n",
       "      <td>0.000e+00</td>\n",
       "      <td>0.000e+00</td>\n",
       "      <td>0.000</td>\n",
       "      <td>1.000</td>\n",
       "      <td>2.100e+03</td>\n",
       "      <td>0.000e+00</td>\n",
       "      <td>-5.285e+03</td>\n",
       "      <td>-800000.000</td>\n",
       "      <td>-1.000</td>\n",
       "      <td>-2.265e+06</td>\n",
       "      <td>-1.000</td>\n",
       "      <td>-2.265e+06</td>\n",
       "      <td>-8.786</td>\n",
       "    </tr>\n",
       "    <tr>\n",
       "      <th>25%</th>\n",
       "      <td>0.0</td>\n",
       "      <td>1.153e+05</td>\n",
       "      <td>0.000</td>\n",
       "      <td>3.870e+04</td>\n",
       "      <td>7.552e+04</td>\n",
       "      <td>7.715e+02</td>\n",
       "      <td>0.000</td>\n",
       "      <td>3.000</td>\n",
       "      <td>4.112e+04</td>\n",
       "      <td>3.166e+03</td>\n",
       "      <td>7.637e+02</td>\n",
       "      <td>-6662.140</td>\n",
       "      <td>-0.042</td>\n",
       "      <td>-8.494e+03</td>\n",
       "      <td>-0.739</td>\n",
       "      <td>-7.518e+03</td>\n",
       "      <td>-0.739</td>\n",
       "    </tr>\n",
       "    <tr>\n",
       "      <th>50%</th>\n",
       "      <td>0.5</td>\n",
       "      <td>2.442e+05</td>\n",
       "      <td>0.000</td>\n",
       "      <td>8.222e+04</td>\n",
       "      <td>1.540e+05</td>\n",
       "      <td>2.558e+03</td>\n",
       "      <td>0.000</td>\n",
       "      <td>3.000</td>\n",
       "      <td>6.950e+04</td>\n",
       "      <td>8.333e+03</td>\n",
       "      <td>2.529e+03</td>\n",
       "      <td>-2179.090</td>\n",
       "      <td>-0.014</td>\n",
       "      <td>-3.174e+03</td>\n",
       "      <td>-0.551</td>\n",
       "      <td>-2.548e+03</td>\n",
       "      <td>-0.543</td>\n",
       "    </tr>\n",
       "    <tr>\n",
       "      <th>75%</th>\n",
       "      <td>1.0</td>\n",
       "      <td>5.262e+05</td>\n",
       "      <td>0.000</td>\n",
       "      <td>1.774e+05</td>\n",
       "      <td>2.899e+05</td>\n",
       "      <td>5.988e+03</td>\n",
       "      <td>0.000</td>\n",
       "      <td>4.000</td>\n",
       "      <td>1.100e+05</td>\n",
       "      <td>3.240e+04</td>\n",
       "      <td>5.963e+03</td>\n",
       "      <td>300.135</td>\n",
       "      <td>0.003</td>\n",
       "      <td>-3.035e+02</td>\n",
       "      <td>-0.296</td>\n",
       "      <td>-1.293e+02</td>\n",
       "      <td>-0.291</td>\n",
       "    </tr>\n",
       "    <tr>\n",
       "      <th>max</th>\n",
       "      <td>1.0</td>\n",
       "      <td>4.803e+06</td>\n",
       "      <td>169166.864</td>\n",
       "      <td>1.601e+06</td>\n",
       "      <td>2.515e+06</td>\n",
       "      <td>1.939e+06</td>\n",
       "      <td>1.000</td>\n",
       "      <td>4.000</td>\n",
       "      <td>1.599e+06</td>\n",
       "      <td>2.051e+06</td>\n",
       "      <td>1.939e+06</td>\n",
       "      <td>866562.470</td>\n",
       "      <td>13.463</td>\n",
       "      <td>9.418e+05</td>\n",
       "      <td>851658.721</td>\n",
       "      <td>9.418e+05</td>\n",
       "      <td>851658.721</td>\n",
       "    </tr>\n",
       "  </tbody>\n",
       "</table>\n",
       "</div>"
      ],
      "text/plain": [
       "       Impactado      Saldo  Desembolso_mes  Saldo Promedio  Deuda Sistea,     Pasivo   Turismo  \\\n",
       "count     1998.0  1.998e+03        1998.000       1.998e+03      1.998e+03  1.998e+03  1998.000   \n",
       "mean         0.5  4.804e+05         298.122       1.617e+05      2.484e+05  2.418e+04     0.055   \n",
       "std          0.5  6.506e+05        6688.538       2.186e+05      2.893e+05  1.073e+05     0.228   \n",
       "min          0.0  1.107e+02           0.000       5.536e+01      0.000e+00  0.000e+00     0.000   \n",
       "25%          0.0  1.153e+05           0.000       3.870e+04      7.552e+04  7.715e+02     0.000   \n",
       "50%          0.5  2.442e+05           0.000       8.222e+04      1.540e+05  2.558e+03     0.000   \n",
       "75%          1.0  5.262e+05           0.000       1.774e+05      2.899e+05  5.988e+03     0.000   \n",
       "max          1.0  4.803e+06      169166.864       1.601e+06      2.515e+06  1.939e+06     1.000   \n",
       "\n",
       "       Sector de Impacto     Venta   Venta Formal  Pasivo_desembolso  Deuda rezagada va  \\\n",
       "count           1998.000  1.998e+03     1.998e+03          1.998e+03           1998.000   \n",
       "mean               3.050  1.003e+05     3.855e+04          2.387e+04          -3084.037   \n",
       "std                0.935  1.184e+05     9.858e+04          1.070e+05          48407.921   \n",
       "min                1.000  2.100e+03     0.000e+00         -5.285e+03        -800000.000   \n",
       "25%                3.000  4.112e+04     3.166e+03          7.637e+02          -6662.140   \n",
       "50%                3.000  6.950e+04     8.333e+03          2.529e+03          -2179.090   \n",
       "75%                4.000  1.100e+05     3.240e+04          5.963e+03            300.135   \n",
       "max                4.000  1.599e+06     2.051e+06          1.939e+06         866562.470   \n",
       "\n",
       "       Deuda rezagada vr  pasivo rezagada va  pasivo rezagada vr  Pasivo_desembolso da  \\\n",
       "count           1998.000           1.998e+03            1998.000             1.998e+03   \n",
       "mean               0.028          -1.743e+04             852.140            -1.478e+04   \n",
       "std                0.545           9.419e+04           21057.347             8.636e+04   \n",
       "min               -1.000          -2.265e+06              -1.000            -2.265e+06   \n",
       "25%               -0.042          -8.494e+03              -0.739            -7.518e+03   \n",
       "50%               -0.014          -3.174e+03              -0.551            -2.548e+03   \n",
       "75%                0.003          -3.035e+02              -0.296            -1.293e+02   \n",
       "max               13.463           9.418e+05          851658.721             9.418e+05   \n",
       "\n",
       "       Pasivo_desembolso dr  \n",
       "count              1998.000  \n",
       "mean                852.447  \n",
       "std               21057.339  \n",
       "min                  -8.786  \n",
       "25%                  -0.739  \n",
       "50%                  -0.543  \n",
       "75%                  -0.291  \n",
       "max              851658.721  "
      ]
     },
     "execution_count": 6,
     "metadata": {},
     "output_type": "execute_result"
    }
   ],
   "source": [
    "# descriptions\n",
    "pd.set_option('precision', 3)\n",
    "df.describe()"
   ]
  },
  {
   "cell_type": "markdown",
   "metadata": {},
   "source": [
    "<a id=\"section24\"></a>\n",
    "## <font color=\"#004D7F\"> 2.4. Distribución de clase</font>"
   ]
  },
  {
   "cell_type": "markdown",
   "metadata": {},
   "source": [
    "Finalmente, veamos ahora la cantidad de instancias (filas) que pertenecen a cada clase. con la función `groupby('Impactado').size()`"
   ]
  },
  {
   "cell_type": "code",
   "execution_count": 7,
   "metadata": {
    "scrolled": false
   },
   "outputs": [
    {
     "data": {
      "text/plain": [
       "Impactado\n",
       "0    999\n",
       "1    999\n",
       "dtype: int64"
      ]
     },
     "execution_count": 7,
     "metadata": {},
     "output_type": "execute_result"
    }
   ],
   "source": [
    "# class distribution\n",
    "df.groupby(\"Impactado\").size()"
   ]
  },
  {
   "cell_type": "markdown",
   "metadata": {},
   "source": [
    "Podemos ver que cada clase se encuentra balanceada, por lo que no necesita tratamiento para clases desbalanceadas."
   ]
  },
  {
   "cell_type": "markdown",
   "metadata": {},
   "source": [
    "<a id=\"section25\"></a>\n",
    "## <font color=\"#004D7F\"> 2.5. Tipo de datos</font>"
   ]
  },
  {
   "cell_type": "markdown",
   "metadata": {},
   "source": [
    "Finalmente, veamos el tipo de variable de cada atributo con la propiedad `dtypes`."
   ]
  },
  {
   "cell_type": "code",
   "execution_count": 8,
   "metadata": {
    "scrolled": false
   },
   "outputs": [
    {
     "data": {
      "text/plain": [
       "Sector                   object\n",
       "Dep                      object\n",
       "Impactado                 int64\n",
       "Saldo                   float64\n",
       "Desembolso_mes          float64\n",
       "Saldo Promedio          float64\n",
       "Deuda Sistea,           float64\n",
       "Pasivo                  float64\n",
       "Turismo                   int64\n",
       "Sector de Impacto         int64\n",
       "Venta                   float64\n",
       "Venta Formal            float64\n",
       "Pasivo_desembolso       float64\n",
       "Deuda rezagada va       float64\n",
       "Deuda rezagada vr       float64\n",
       "pasivo rezagada va      float64\n",
       "pasivo rezagada vr      float64\n",
       "Pasivo_desembolso da    float64\n",
       "Pasivo_desembolso dr    float64\n",
       "dtype: object"
      ]
     },
     "execution_count": 8,
     "metadata": {},
     "output_type": "execute_result"
    }
   ],
   "source": [
    "# types\n",
    "df.dtypes"
   ]
  },
  {
   "cell_type": "markdown",
   "metadata": {},
   "source": [
    "Vemos que hay atributos categóricos(object) numéricos (flotantes e int) y que el valor de la clase se ha leído como un entero(int).<br>\n",
    "También apreciamos que \"Turismo\" y \"Sector de Impacto\" son variables categóricas con tipo de datos entero, luego se hará tratamiento para cambiarles el tipo a categóricos."
   ]
  },
  {
   "cell_type": "code",
   "execution_count": 9,
   "metadata": {},
   "outputs": [
    {
     "data": {
      "text/plain": [
       "array(['INDUSTRIA', 'COMERCIO', 'SERVICIO'], dtype=object)"
      ]
     },
     "execution_count": 9,
     "metadata": {},
     "output_type": "execute_result"
    }
   ],
   "source": [
    "df.Sector.unique()"
   ]
  },
  {
   "cell_type": "markdown",
   "metadata": {},
   "source": [
    "Categorizamos la variable Sector en 1, 2 y 3 para poder trabajarla. Vamos a categorizar también \"Sector\", \"Sector de Impacto\" y \"Turismo\" ya que son enteros."
   ]
  },
  {
   "cell_type": "code",
   "execution_count": 10,
   "metadata": {},
   "outputs": [],
   "source": [
    "#Guardamos el dataset original\n",
    "df2 = df\n",
    "\n",
    "df2[\"Sector\"] = np.where(df2[\"Sector\"]==\"INDUSTRIA\", \"1\", df2[\"Sector\"])\n",
    "df2[\"Sector\"] = np.where(df2[\"Sector\"]==\"COMERCIO\", \"2\", df2[\"Sector\"])\n",
    "df2[\"Sector\"] = np.where(df2[\"Sector\"]==\"SERVICIO\", \"3\", df2[\"Sector\"])\n",
    "df2.Sector = df2.Sector.astype(\"category\")\n",
    "df2[\"Sector de Impacto\"] = df2[\"Sector de Impacto\"].astype(\"category\",copy=False)\n",
    "df2.Turismo = df2.Turismo.astype(\"category\")"
   ]
  },
  {
   "cell_type": "markdown",
   "metadata": {},
   "source": [
    "<a id=\"section311\"></a>\n",
    "### <font color=\"#004D7F\"> Valores NaN</font>\n",
    "Vamos a explorar nuestros datos para ver si tenemos valores NaN. En nuestro caso podemos observar que no tenemos ningún valor NaN en las características."
   ]
  },
  {
   "cell_type": "code",
   "execution_count": 11,
   "metadata": {
    "scrolled": true
   },
   "outputs": [
    {
     "data": {
      "text/plain": [
       "Sector                  0\n",
       "Dep                     0\n",
       "Impactado               0\n",
       "Saldo                   0\n",
       "Desembolso_mes          0\n",
       "Saldo Promedio          0\n",
       "Deuda Sistea,           0\n",
       "Pasivo                  0\n",
       "Turismo                 0\n",
       "Sector de Impacto       0\n",
       "Venta                   0\n",
       "Venta Formal            0\n",
       "Pasivo_desembolso       0\n",
       "Deuda rezagada va       0\n",
       "Deuda rezagada vr       0\n",
       "pasivo rezagada va      0\n",
       "pasivo rezagada vr      0\n",
       "Pasivo_desembolso da    0\n",
       "Pasivo_desembolso dr    0\n",
       "dtype: int64"
      ]
     },
     "execution_count": 11,
     "metadata": {},
     "output_type": "execute_result"
    }
   ],
   "source": [
    "df.isnull().sum()"
   ]
  },
  {
   "cell_type": "markdown",
   "metadata": {},
   "source": [
    "Veamos los valores NaN gráficamente."
   ]
  },
  {
   "cell_type": "code",
   "execution_count": 12,
   "metadata": {},
   "outputs": [
    {
     "data": {
      "text/plain": [
       "<AxesSubplot:>"
      ]
     },
     "execution_count": 12,
     "metadata": {},
     "output_type": "execute_result"
    },
    {
     "data": {
      "image/png": "[encoded data removed]",
      "text/plain": [
       "<Figure size 1800x720 with 2 Axes>"
      ]
     },
     "metadata": {
      "needs_background": "light"
     },
     "output_type": "display_data"
    }
   ],
   "source": [
    "msno.matrix(df)"
   ]
  },
  {
   "cell_type": "markdown",
   "metadata": {},
   "source": [
    "<div style=\"text-align: right\"> <font size=5>\n",
    "    <a href=\"#indice\"><i class=\"fa fa-arrow-circle-up\" aria-hidden=\"true\" style=\"color:#004D7F\"></i></a>\n",
    "</font></div>\n",
    "\n",
    "---"
   ]
  },
  {
   "cell_type": "markdown",
   "metadata": {},
   "source": [
    "<a id=\"section3\"></a>\n",
    "# <font color=\"#004D7F\"> 3. Visualización del conjunto de datos</font>"
   ]
  },
  {
   "cell_type": "markdown",
   "metadata": {},
   "source": [
    "Ahora tenemos una idea básica sobre los datos. Necesitamos extender eso con algunas visualizaciones. Vamos a ver dos tipos de gráficos de visualización de datos:\n",
    "* Gráficos univariados para comprender mejor cada atributo.\n",
    "* Gráficos multivariados para comprender mejor las relaciones entre los atributos."
   ]
  },
  {
   "cell_type": "markdown",
   "metadata": {},
   "source": [
    "<a id=\"section31\"></a>\n",
    "## <font color=\"#004D7F\"> 3.1. Gráficos Univariados</font>"
   ]
  },
  {
   "cell_type": "markdown",
   "metadata": {},
   "source": [
    "Mostraremos algunas gráficas univariadas, es decir, gráficas de cada variable individual. Con estos gráficos tendremos una referencia de los posibles outliers y de la distribución que sigue cada variable. "
   ]
  },
  {
   "cell_type": "markdown",
   "metadata": {},
   "source": [
    "<a id=\"section311\"></a>\n",
    "### <font color=\"#004D7F\"> Boxplots</font>\n",
    "Dado que las variables de entrada son numéricas, podemos crear Gráficas Boxplots de cada uno. Dado que las escalas no son las mismas, puede sugerir algún beneficio al estandarizar los datos para el modelado para alinear todos los medios."
   ]
  },
  {
   "cell_type": "markdown",
   "metadata": {},
   "source": [
    "Vamos a eliminar la columna \"Dep\" ya que posee mucha cardinalidad"
   ]
  },
  {
   "cell_type": "code",
   "execution_count": 13,
   "metadata": {},
   "outputs": [],
   "source": [
    "df2 = df2.drop([\"Dep\"], axis = 1)"
   ]
  },
  {
   "cell_type": "code",
   "execution_count": 14,
   "metadata": {
    "scrolled": true
   },
   "outputs": [
    {
     "data": {
      "image/png": "[encoded data removed]",
      "text/plain": [
       "<Figure size 1152x1440 with 30 Axes>"
      ]
     },
     "metadata": {
      "needs_background": "light"
     },
     "output_type": "display_data"
    }
   ],
   "source": [
    "# box and whisker plots - Matplotlib\n",
    "fig = plt.figure(figsize = (16,20))\n",
    "ax = fig.gca()\n",
    "(df2.rename(columns=lambda x: str(x))\n",
    "        .plot(ax=ax, kind= 'box', subplots=True, layout=(6,5))\n",
    ")\n",
    "plt.show()"
   ]
  },
  {
   "cell_type": "markdown",
   "metadata": {},
   "source": [
    "<a id=\"section311\"></a>\n",
    "### <font color=\"#004D7F\"> Histograma</font>\n",
    "También podemos crear un histograma de cada variable de entrada para tener una idea de la distribución. Parece que quizás hay variables que tienen una distribución gaussiana. Es útil tener en cuenta que podemos usar algoritmos que pueden explotar esta suposición."
   ]
  },
  {
   "cell_type": "code",
   "execution_count": 15,
   "metadata": {
    "scrolled": false
   },
   "outputs": [
    {
     "data": {
      "image/png": "[encoded data removed]",
      "text/plain": [
       "<Figure size 1440x1440 with 16 Axes>"
      ]
     },
     "metadata": {
      "needs_background": "light"
     },
     "output_type": "display_data"
    }
   ],
   "source": [
    "# histograms - Matplotlib\n",
    "fig = plt.figure(figsize = (20,20))\n",
    "ax = fig.gca()\n",
    "df2.hist(ax=ax)\n",
    "plt.show()"
   ]
  },
  {
   "cell_type": "markdown",
   "metadata": {},
   "source": [
    "<a id=\"section311\"></a>\n",
    "### <font color=\"#004D7F\"> Diagrama de densidad</font>\n",
    "Esto es útil, puede ver que muchos de los atributos tienen una distribución sesgada. Una transformación de potencia como una transformación de Yeo-johnson que puede corregir el sesgo en las distribuciones podría ser útil."
   ]
  },
  {
   "cell_type": "code",
   "execution_count": 16,
   "metadata": {},
   "outputs": [
    {
     "data": {
      "image/png": "[encoded data removed]",
      "text/plain": [
       "<Figure size 1440x1440 with 64 Axes>"
      ]
     },
     "metadata": {
      "needs_background": "light"
     },
     "output_type": "display_data"
    }
   ],
   "source": [
    "# density\n",
    "fig = plt.figure(figsize = (20,20))\n",
    "ax = fig.gca()\n",
    "df2.plot(ax=ax, kind='density', subplots=True, layout=(8,8), sharex=False, legend=False)\n",
    "plt.show()"
   ]
  },
  {
   "cell_type": "markdown",
   "metadata": {},
   "source": [
    "<a id=\"section32\"></a>\n",
    "## <font color=\"#004D7F\"> 3.2. Gráficos multivariados</font>"
   ]
  },
  {
   "cell_type": "markdown",
   "metadata": {},
   "source": [
    "Ahora podemos ver las interacciones entre las variables. "
   ]
  },
  {
   "cell_type": "markdown",
   "metadata": {},
   "source": [
    "<a id=\"section321\"></a>\n",
    "### <font color=\"#004D7F\"> Correlación entre atributos</font>\n",
    "Este gráfico nos permite ver de forma visual la correlación entre los atributos. El amarilo alrededor de la diagonal sugiere que los atributos que están uno al lado del otro generalmente están más correlacionados entre sí. Los parches azules también sugieren una correlación negativa moderada, los atributos adicionales están lejos unos de otros en el orden.<br>\n",
    "Una buena práctica es tomar el valor de 0.7 o -0.7 entre dos atributos o variables para decir que tienen una fuerte correlación o relación."
   ]
  },
  {
   "cell_type": "code",
   "execution_count": 18,
   "metadata": {
    "scrolled": true
   },
   "outputs": [
    {
     "data": {
      "image/png": "[encoded data removed]",
      "text/plain": [
       "<Figure size 864x864 with 2 Axes>"
      ]
     },
     "metadata": {
      "needs_background": "light"
     },
     "output_type": "display_data"
    }
   ],
   "source": [
    "correlation = df2.corr()\n",
    "plt.figure(figsize=(12,12))\n",
    "ax = sns.heatmap(correlation, vmax=1, square=True, annot = True, cmap = 'viridis')\n",
    "# ----------\n",
    "plt.title('Correlación entre variables')\n",
    "plt.show()"
   ]
  },
  {
   "cell_type": "markdown",
   "metadata": {},
   "source": [
    "Del gráfico se puede apreciar que existen algunas variables muy correlacionadas, las que serán candidatas para eliminar puesto que aportan ruido al modelo<br>\n",
    "Algunos ejemplos de estas correlaciones, \"Saldo\" con \"Saldo Promedio\" y \"Deuda Sistema\" o \"Deuda Sistema\" con \"Saldo Promedio\" y \"Saldo\" o \"Saldo Promedio\" con \"Deuda Sistema\" y \"Saldo\".<br>\n",
    "De igual forma las variables pasivo:\n",
    "* \"Pasivo\" con \"Pasivo_desembolso\" o viceversa.<br>\n",
    "* \"Pasivo rezagada va\" con \"Pasivo_desembolso da\" o viceversa.<br>\n",
    "* \"Pasivo_rezagada vr\" con \"Pasivo_desembolso dr\".<br>\n",
    "\n",
    "\"Venta\" con \"Venta Formal\" o viceversa.<br><br>\n",
    "Vamos a ver otra herramienta para que nos ayude a tomar la decisión de cual eliminar."
   ]
  },
  {
   "cell_type": "markdown",
   "metadata": {},
   "source": [
    "<div style=\"text-align: right\"> <font size=5>\n",
    "    <a href=\"#indice\"><i class=\"fa fa-arrow-circle-up\" aria-hidden=\"true\" style=\"color:#004D7F\"></i></a>\n",
    "</font></div>\n",
    "\n",
    "---"
   ]
  },
  {
   "cell_type": "markdown",
   "metadata": {},
   "source": [
    "<a id=\"section4\"></a>\n",
    "# <font color=\"#004D7F\"> 4. Fase de modelado</font>"
   ]
  },
  {
   "cell_type": "markdown",
   "metadata": {},
   "source": [
    "Vamos a crear algunos modelos de datos y estimar su Accruacy. Esto es lo que vamos a cubrir en este paso:\n",
    "* Crear conjunto de validación.\n",
    "* Evaluación de línea base.\n",
    "* Evaluar algoritmos: Estandarización."
   ]
  },
  {
   "cell_type": "markdown",
   "metadata": {},
   "source": [
    "<a id=\"section41\"></a>\n",
    "## <font color=\"#004D7F\"> 4.1. Crear conjunto de validación</font>"
   ]
  },
  {
   "cell_type": "markdown",
   "metadata": {},
   "source": [
    "Es una buena idea utilizar un conjunto de validación. Esta es una muestra de los datos que retenemos de nuestro análisis y modelado. Lo usamos justo al final de nuestro proyecto para confirmar el Accuracy de nuestro modelo final. Es una prueba que podemos usar para ver si nos equivocamos y para darnos confianza en nuestras estimaciones de Accuracy en datos no etiquetados. Dividiremos el conjunto de datos cargado en dos, el 80% de los cuales utilizaremos para entrenar nuestros modelos y el 20% como un conjunto de datos de validación"
   ]
  },
  {
   "cell_type": "code",
   "execution_count": 19,
   "metadata": {},
   "outputs": [],
   "source": [
    "# Split-out validation dataset\n",
    "Y = df2[\"Impactado\"].values\n",
    "df2 = df2.drop([\"Impactado\"], axis = 1 )\n",
    "X = df2.values\n",
    "\n",
    "validation_size = 0.20\n",
    "seed = 7\n",
    "X_train, X_validation, Y_train, Y_validation = train_test_split(X, Y, test_size=validation_size, random_state=seed)"
   ]
  },
  {
   "cell_type": "markdown",
   "metadata": {},
   "source": [
    "Ahora tiene datos de entrenamiento en `X_train` e `Y_train` para preparar modelos y conjuntos de `X_validation` e `Y_validation` que podemos usar más adelante."
   ]
  },
  {
   "cell_type": "markdown",
   "metadata": {},
   "source": [
    "<a id=\"section42\"></a>\n",
    "## <font color=\"#004D7F\"> 4.2. Evaluación de línea base</font>"
   ]
  },
  {
   "cell_type": "markdown",
   "metadata": {},
   "source": [
    "Vamos a probar algunos algoritmos a nuestro conjunto de datos. Podemos intuir que algoritmos basados en la distancia como $k$-NN y SVM pueden funcionar bien. Utilizaremos la validación cruzada 10 veces. Evaluaremos algoritmos utilizando la métrica Accuracy ya que las clases estaban balanceadas. Esta es una métrica general que dará una idea rápida de cuán correcto es un modelo dado. Más útil en problemas de clasificación binaria como este.\n",
    "\n",
    "Para obtener esta línea de base solo se ha eliminado la columna \"Dep\" y categorizado \"Turismo\" y \"Sector de Impacto\", no se ha realizado el tratamiento de los outliers ni normalización u otro tipo de transformación; la línea de base es una referencia sobre la cual nuestro modelo puede predecir.\n",
    "\n",
    "Posteriormente, creamos una línea base de rendimiento en este problema y verifiquemos varios algoritmos diferentes. Seleccionaremos un conjunto de algoritmos diferentes capaces de trabajar en este problema de clasificación. Los seis algoritmos seleccionados incluyen:\n",
    "* __Algoritmos lineales:__ LoR y LDA.\n",
    "* __Algoritmos no lineales:__ CART, SVM, NB, $k$-NN, LGBM y SVM."
   ]
  },
  {
   "cell_type": "code",
   "execution_count": 20,
   "metadata": {},
   "outputs": [],
   "source": [
    "# Test options and evaluation metric\n",
    "num_folds = 10\n",
    "seed = 7\n",
    "scoring = 'accuracy'\n",
    "\n",
    "# Spot Check Algorithms\n",
    "models = []\n",
    "models.append(('LR', LogisticRegression()))\n",
    "models.append(('LDA', LinearDiscriminantAnalysis()))\n",
    "models.append(('KNN', KNeighborsClassifier()))\n",
    "models.append(('CART', DecisionTreeClassifier()))\n",
    "models.append(('NB', GaussianNB()))\n",
    "models.append(('LGBM', LGBMClassifier()))\n",
    "models.append(('SVM', SVC()))"
   ]
  },
  {
   "cell_type": "markdown",
   "metadata": {},
   "source": [
    "Todos los algoritmos usan hiperparámetros predeterminados. Comparemos los algoritmos. Mostraremos la media y la desviación estándar de Accuracy para cada algoritmo a medida que lo calculemos y recopilemos los resultados para su uso posterior."
   ]
  },
  {
   "cell_type": "code",
   "execution_count": 21,
   "metadata": {
    "scrolled": true
   },
   "outputs": [
    {
     "name": "stdout",
     "output_type": "stream",
     "text": [
      "LR: 60.08% (3.49%)\n",
      "LDA: 57.20% (2.55%)\n",
      "KNN: 55.82% (3.11%)\n",
      "CART: 55.13% (5.23%)\n",
      "NB: 53.19% (3.26%)\n",
      "LGBM: 58.76% (3.63%)\n",
      "SVM: 57.20% (3.46%)\n"
     ]
    }
   ],
   "source": [
    "results = []\n",
    "names = []\n",
    "for name, model in models:\n",
    "    #kfold = KFold(n_splits=num_folds, random_state=seed)\n",
    "    kfold = KFold(n_splits=num_folds)\n",
    "    cv_results = cross_val_score(model, X_train, Y_train, cv=kfold, scoring=scoring)\n",
    "    results.append(cv_results)\n",
    "    names.append(name)\n",
    "    print(f\"{name}: {cv_results.mean()*100.0:,.2f}% ({cv_results.std()*100.0:,.2f}%)\")"
   ]
  },
  {
   "cell_type": "markdown",
   "metadata": {},
   "source": [
    "<div class=\"alert alert-block alert-warning\">\n",
    "<i class=\"fa fa-exclamation-circle\" aria-hidden=\"true\"></i>\n",
    "\n",
    "Importante: Al parecer hay un bug en \"sklearn\" y \"KFold\" pues ahora para kfold = KFold(n_splits=num_folds, random_state=seed), exige random_state = None y shuffle = False, en caso que se quiera cambiar la semilla nos da error; por eso solo puse el nro de kflods\n",
    "</div>"
   ]
  },
  {
   "cell_type": "markdown",
   "metadata": {},
   "source": [
    "Estos son solo valores medios de Accuracy, sin completar el tratamiento a los datos. También vamos a  observar la distribución de los valores de Accuracy calculados en los _folds_ de validación cruzada. Podemos hacerlo gráficamente usando Boxplot."
   ]
  },
  {
   "cell_type": "code",
   "execution_count": 22,
   "metadata": {},
   "outputs": [
    {
     "data": {
      "image/png": "[encoded data removed]",
      "text/plain": [
       "<Figure size 432x288 with 1 Axes>"
      ]
     },
     "metadata": {
      "needs_background": "light"
     },
     "output_type": "display_data"
    }
   ],
   "source": [
    "# Compare Algorithms\n",
    "fig = plt.figure()\n",
    "fig.suptitle('Algorithm Comparison')\n",
    "ax = fig.add_subplot(111)\n",
    "plt.boxplot(results)\n",
    "ax.set_xticklabels(names)\n",
    "plt.show()"
   ]
  },
  {
   "cell_type": "markdown",
   "metadata": {},
   "source": [
    "Los resultados muestran que la Regresión Logística nos da un mayor accuracy seguido de LGBM, SVM y LDA(con menor desviación estándar que SVM), lo que sugiere una baja variación. NB, el que tiene peor resultado.\n",
    "\n",
    "Es posible que la distribución variada de los atributos tenga un efecto en el Accuracy de algoritmos como SVM. En la siguiente sección, repetiremos esta comprobación realizando una estandarización del conjunto de datos de entrenamiento."
   ]
  },
  {
   "cell_type": "markdown",
   "metadata": {},
   "source": [
    "<a id=\"section43\"></a>\n",
    "## <font color=\"#004D7F\"> 4.3. Evaluar modelos: estandarización</font>"
   ]
  },
  {
   "cell_type": "markdown",
   "metadata": {},
   "source": [
    "Sospechamos que las diferentes distribuciones de los datos en bruto pueden estar afectando negativamente a la habilidad de algunos de los algoritmos. Vamos a evaluar los mismos algoritmos con una copia estandarizada del conjunto de datos. Aquí es donde los datos se transforman de manera que cada atributo tenga un valor medio de cero y una desviación estándar de uno. \n",
    "\n",
    "También debemos evitar la fuga de datos cuando transformamos los datos. Una buena manera de evitar fugas es usar Pipelines que estandaricen los datos y construyan el modelo para cada _fold_ de la validación cruzada. De esa forma podemos obtener una estimación justa de cómo cada modelo con datos estandarizados podría funcionar en datos no vistos."
   ]
  },
  {
   "cell_type": "code",
   "execution_count": 23,
   "metadata": {},
   "outputs": [
    {
     "name": "stdout",
     "output_type": "stream",
     "text": [
      "ScaledLoR: 59.77% (4.23%)\n",
      "ScaledLDA: 57.20% (2.55%)\n",
      "Scaledk-NN: 55.82% (2.58%)\n",
      "ScaledCART: 55.82% (4.86%)\n",
      "ScaledNB: 53.25% (3.31%)\n",
      "ScaledLGBM: 59.27% (3.85%)\n",
      "ScaledSVM: 59.52% (4.75%)\n"
     ]
    }
   ],
   "source": [
    "# Standardize the dataset\n",
    "pipelines = []\n",
    "pipelines.append(('ScaledLoR', Pipeline([('Scaler', StandardScaler()),('LR', LogisticRegression())])))\n",
    "pipelines.append(('ScaledLDA', Pipeline([('Scaler', StandardScaler()),('LDA', LinearDiscriminantAnalysis())])))\n",
    "pipelines.append(('Scaledk-NN', Pipeline([('Scaler', StandardScaler()),('KNN', KNeighborsClassifier())])))\n",
    "pipelines.append(('ScaledCART', Pipeline([('Scaler', StandardScaler()),('CART', DecisionTreeClassifier())])))\n",
    "pipelines.append(('ScaledNB', Pipeline([('Scaler', StandardScaler()),('NB', GaussianNB())])))\n",
    "pipelines.append(('ScaledLGBM', Pipeline([('Scaler', StandardScaler()),('LGBM', LGBMClassifier())])))\n",
    "pipelines.append(('ScaledSVM', Pipeline([('Scaler', StandardScaler()),('SVM', SVC())])))\n",
    "results = []\n",
    "names = []\n",
    "for name, model in pipelines:\n",
    "    kfold = KFold(n_splits=num_folds)\n",
    "    cv_results = cross_val_score(model, X_train, Y_train, cv=kfold, scoring=scoring)\n",
    "    results.append(cv_results)\n",
    "    names.append(name)\n",
    "    print(f\"{name}: {cv_results.mean()*100.0:,.2f}% ({cv_results.std()*100.0:,.2f}%)\")"
   ]
  },
  {
   "cell_type": "markdown",
   "metadata": {},
   "source": [
    "<div class=\"alert alert-block alert-warning\">\n",
    "<i class=\"fa fa-exclamation-circle\" aria-hidden=\"true\"></i>\n",
    "\n",
    "Importante: Al parecer hay un bug en \"sklearn\" y \"KFold\" o una configuración diferente pues ahora para kfold = KFold(n_splits=num_folds, random_state=seed), exige random_state = None y shuffle = False, en caso que se quiera cambiar la semilla nos da error; por eso solo puse el nro de kflods\n",
    "</div>"
   ]
  },
  {
   "cell_type": "markdown",
   "metadata": {},
   "source": [
    "Ejecutar el ejemplo proporciona los resultados enumerados a continuación. Podemos ver que SVM aumentó su accuracy, aunque la desviación estandar es algo mayor que el resto de algoritmos, esto puede deberse a los outliers ya que todavía no hemos terminado el preprocesamiento de los datos; pero nos damos cuenta que mejora el accuracy con standarizar."
   ]
  },
  {
   "cell_type": "code",
   "execution_count": 24,
   "metadata": {
    "scrolled": true
   },
   "outputs": [
    {
     "data": {
      "image/png": "[encoded data removed]",
      "text/plain": [
       "<Figure size 576x576 with 1 Axes>"
      ]
     },
     "metadata": {
      "needs_background": "light"
     },
     "output_type": "display_data"
    }
   ],
   "source": [
    "# Compare Algorithms\n",
    "#fig = plt.figure()\n",
    "#plt.figure(figsize=(8,8))\n",
    "fig = plt.figure(figsize = (8,8))\n",
    "fig.suptitle('Scaled Algorithm Comparison')\n",
    "ax = fig.add_subplot(111)\n",
    "plt.boxplot(results)\n",
    "ax.set_xticklabels(names)\n",
    "plt.show()"
   ]
  },
  {
   "cell_type": "markdown",
   "metadata": {},
   "source": [
    "Los resultados sugieren profundizar en el algoritmo SVM. Es muy probable que una configuración más allá de la predeterminada pueda mejorar el desempeño del modelo."
   ]
  },
  {
   "cell_type": "markdown",
   "metadata": {},
   "source": [
    "<a id=\"section44\"></a>\n",
    "## <font color=\"#004D7F\"> 4.4. Feature Selection</font>"
   ]
  },
  {
   "cell_type": "markdown",
   "metadata": {},
   "source": [
    "En esta sección veremos las variables más importantes de nuestro modelo, es decir, las que aportan mayor datos para nuestro modelo.\n",
    "Luego del respectivo análisis se verá cuáles o cuál se va a eliminar.<br>\n",
    "Nos vamos a apoyar en las siguientes técnicas:\n",
    "* Matriz de Correlación de Variables.\n",
    "* Ranking de Importancia.\n",
    "* Gini de variables."
   ]
  },
  {
   "cell_type": "markdown",
   "metadata": {},
   "source": [
    "<a id=\"section441\"></a>\n",
    "### <font color=\"#004D7F\">4.4.1 Matriz de Correlación de Variables</font>\n",
    "Esta herramienta fue desarrollada anteriormente en el ítem 3.2 por lo que mostraremos el gráfico y las conclusiones."
   ]
  },
  {
   "cell_type": "code",
   "execution_count": 25,
   "metadata": {},
   "outputs": [
    {
     "data": {
      "image/png": "[encoded data removed]",
      "text/plain": [
       "<Figure size 864x864 with 2 Axes>"
      ]
     },
     "metadata": {
      "needs_background": "light"
     },
     "output_type": "display_data"
    }
   ],
   "source": [
    "correlation = df2.corr()\n",
    "plt.figure(figsize=(12,12))\n",
    "ax = sns.heatmap(correlation, vmax=1, square=True, annot = True, cmap = 'viridis')\n",
    "# ----------\n",
    "plt.title('Correlación entre variables')\n",
    "plt.show()"
   ]
  },
  {
   "cell_type": "markdown",
   "metadata": {},
   "source": [
    "Del gráfico se puede apreciar que existen algunas variables muy correlacionadas, las que serán candidatas para eliminar puesto que aportan ruido al modelo<br>\n",
    "Algunos ejemplos de estas correlacionesson:\n",
    "* \"Saldo\" con \"Saldo Promedio\" o viceversa.\n",
    "* \"Saldo\" con \"Deuda Sistema\" o viceversa.\n",
    "* \"Deuda Sistema\" con \"Saldo Promedio\" o viceversa.\n",
    "* \"Pasivo\" con \"Pasivo_desembolso\" o viceversa.<br>\n",
    "* \"Pasivo rezagada va\" con \"Pasivo_desembolso da\" o viceversa.<br>\n",
    "* \"Pasivo_rezagada vr\" con \"Pasivo_desembolso dr\".\n",
    "* \"Venta\" con \"Venta Formal\" o viceversa.<br><br>"
   ]
  },
  {
   "cell_type": "markdown",
   "metadata": {},
   "source": [
    "<a id=\"section442\"></a>\n",
    "### <font color=\"#004D7F\">4.4.2 Ranking de Importancia de Variables</font>\n",
    "Esta herramienta nos permite tener una noción gráfica del peso de las variables, para tal fin utilizaremos el algoritmo Random Forest."
   ]
  },
  {
   "cell_type": "code",
   "execution_count": 26,
   "metadata": {},
   "outputs": [
    {
     "name": "stdout",
     "output_type": "stream",
     "text": [
      "Accuracy: 0.615 \n",
      "Index(['Desembolso_mes', 'Turismo', 'Sector', 'Sector de Impacto', 'Pasivo_desembolso dr',\n",
      "       'pasivo rezagada vr', 'Pasivo_desembolso da', 'pasivo rezagada va', 'Pasivo_desembolso',\n",
      "       'Pasivo', 'Venta Formal', 'Deuda rezagada vr', 'Deuda rezagada va', 'Venta ',\n",
      "       'Saldo Promedio', 'Saldo', 'Deuda Sistea,'],\n",
      "      dtype='object')\n"
     ]
    },
    {
     "data": {
      "image/png": "[encoded data removed]",
      "text/plain": [
       "<Figure size 720x432 with 1 Axes>"
      ]
     },
     "metadata": {
      "needs_background": "light"
     },
     "output_type": "display_data"
    }
   ],
   "source": [
    "X_train, X_test, Y_train, Y_test = train_test_split(X, Y, test_size = 0.20, random_state=7)\n",
    "forest = RandomForestClassifier(n_estimators = 100)\n",
    "forest.fit(X_train, Y_train)\n",
    "importances = forest.feature_importances_\n",
    "Y_pred = forest.predict(X_test)\n",
    "\n",
    "print(f\"Accuracy: {accuracy_score(Y_test,Y_pred)} \")\n",
    "ranking = np.argsort(forest.feature_importances_)\n",
    "#print(df.feature_names[ranking])\n",
    "print(df2.columns[ranking])\n",
    "\n",
    "plt.figure(figsize=(10,6))\n",
    "plt.title(\"Ranking de Importancia\")\n",
    "plt.barh(range(X.shape[1]), importances[ranking])\n",
    "#plt.yticks(range(X.shape[1]), df.feature_names[ranking], fontsize = 9)\n",
    "plt.yticks(range(X.shape[1]), df2.columns[ranking], fontsize = 9)\n",
    "plt.show()"
   ]
  },
  {
   "cell_type": "markdown",
   "metadata": {},
   "source": [
    "Del gráfico podemos apreciar que \"Venta\", \"Deuda Sistea,\"y \"Saldo Promedio\" son los más importantes, mientras que \"Desembolso_mes\" es la que menos aporta por lo que es la primera candidata a ser eliminada.<br>"
   ]
  },
  {
   "cell_type": "markdown",
   "metadata": {},
   "source": [
    "<a id=\"section443\"></a>\n",
    "### <font color=\"#004D7F\">4.4.3 Gini de Variables</font>\n",
    "Esta herramienta nos permite conocer la importancia de las variables en forma numérica. Para el cálculo utilizaremos el algoritmo de Random Forest."
   ]
  },
  {
   "cell_type": "markdown",
   "metadata": {},
   "source": [
    "Vamos a separar las variables continuas de las variables categóricas ya que su cálculo es diferente."
   ]
  },
  {
   "cell_type": "code",
   "execution_count": 27,
   "metadata": {},
   "outputs": [],
   "source": [
    "col_ncat = ['Saldo', 'Pasivo', 'pasivo rezagada va',\n",
    "       'Pasivo_desembolso da', 'pasivo rezagada vr', 'Pasivo_desembolso dr','Deuda rezagada vr',\n",
    "       'Venta Formal', 'Deuda Sistea,', 'Venta ', 'Deuda rezagada va',\n",
    "       'Pasivo_desembolso', 'Desembolso_mes', 'Saldo Promedio']\n",
    "col_cat = ['Sector', 'Turismo', 'Sector de Impacto']"
   ]
  },
  {
   "cell_type": "code",
   "execution_count": 28,
   "metadata": {},
   "outputs": [],
   "source": [
    "## Función para calcular el GINI en variables continuas\n",
    "def gini_continuo(data,arr_col,target):\n",
    "    from sklearn.metrics import roc_auc_score\n",
    "    from sklearn.ensemble import RandomForestClassifier\n",
    "    logi=RandomForestClassifier() # Generando objeto\n",
    "    l_col = []\n",
    "    l_g = []\n",
    "    for i in arr_col:\n",
    "        #print(i)\n",
    "        bgini=data.loc[:,[i]] # Generando base con variable\n",
    "        logi.fit(bgini,data[target]) # Entrenamiento\n",
    "        gini=2*roc_auc_score(data[target],logi.predict_proba(bgini)[:,1])-1\n",
    "        l_col.append(i)\n",
    "        l_g.append(gini)\n",
    "    \n",
    "    result = pd.DataFrame([l_g],columns=arr_col)\n",
    "    #result = result.transpose()\n",
    "    result = pd.melt(result)\n",
    "    #result.sort_values(,ascending=False)\n",
    "    result.columns = [\"Variable\",\"Gini\"]\n",
    "    result.sort_values(\"Gini\",ascending=False)\n",
    "    #print(l_g)\n",
    "    return result"
   ]
  },
  {
   "cell_type": "code",
   "execution_count": 29,
   "metadata": {},
   "outputs": [],
   "source": [
    "### Gini para vaiables categóricas\n",
    "def gini_categorico(input_1,variable,target):\n",
    "    base=input_1.loc[:,[variable]]\n",
    "    cat_dummies = pd.get_dummies(base[variable], prefix=variable)\n",
    "    base = base.join(cat_dummies)\n",
    "    d_vars = base.columns.values.tolist()\n",
    "    to_keep = [v for v in d_vars if v not in col_cat]\n",
    "    base=base[to_keep]\n",
    "    logi=RandomForestClassifier() # Generando objeto\n",
    "    logi.fit(base,input_1[target]) # Entrenamiento\n",
    "    gini=2*roc_auc_score(input_1[target],logi.predict_proba(base)[:,1])-1 \n",
    "    result = pd.DataFrame(columns=['Variable','Gini'])\n",
    "    result.loc[len(result)]=[variable,gini] \n",
    "    return(result)"
   ]
  },
  {
   "cell_type": "code",
   "execution_count": 30,
   "metadata": {},
   "outputs": [
    {
     "data": {
      "text/html": [
       "<div>\n",
       "<style scoped>\n",
       "    .dataframe tbody tr th:only-of-type {\n",
       "        vertical-align: middle;\n",
       "    }\n",
       "\n",
       "    .dataframe tbody tr th {\n",
       "        vertical-align: top;\n",
       "    }\n",
       "\n",
       "    .dataframe thead th {\n",
       "        text-align: right;\n",
       "    }\n",
       "</style>\n",
       "<table border=\"1\" class=\"dataframe\">\n",
       "  <thead>\n",
       "    <tr style=\"text-align: right;\">\n",
       "      <th></th>\n",
       "      <th>Variable</th>\n",
       "      <th>Gini</th>\n",
       "    </tr>\n",
       "  </thead>\n",
       "  <tbody>\n",
       "    <tr>\n",
       "      <th>13</th>\n",
       "      <td>Saldo Promedio</td>\n",
       "      <td>0.990</td>\n",
       "    </tr>\n",
       "    <tr>\n",
       "      <th>8</th>\n",
       "      <td>Deuda Sistea,</td>\n",
       "      <td>0.989</td>\n",
       "    </tr>\n",
       "    <tr>\n",
       "      <th>0</th>\n",
       "      <td>Saldo</td>\n",
       "      <td>0.989</td>\n",
       "    </tr>\n",
       "    <tr>\n",
       "      <th>10</th>\n",
       "      <td>Deuda rezagada va</td>\n",
       "      <td>0.987</td>\n",
       "    </tr>\n",
       "    <tr>\n",
       "      <th>6</th>\n",
       "      <td>Deuda rezagada vr</td>\n",
       "      <td>0.986</td>\n",
       "    </tr>\n",
       "    <tr>\n",
       "      <th>9</th>\n",
       "      <td>Venta</td>\n",
       "      <td>0.931</td>\n",
       "    </tr>\n",
       "    <tr>\n",
       "      <th>2</th>\n",
       "      <td>pasivo rezagada va</td>\n",
       "      <td>0.861</td>\n",
       "    </tr>\n",
       "    <tr>\n",
       "      <th>3</th>\n",
       "      <td>Pasivo_desembolso da</td>\n",
       "      <td>0.858</td>\n",
       "    </tr>\n",
       "    <tr>\n",
       "      <th>4</th>\n",
       "      <td>pasivo rezagada vr</td>\n",
       "      <td>0.840</td>\n",
       "    </tr>\n",
       "    <tr>\n",
       "      <th>5</th>\n",
       "      <td>Pasivo_desembolso dr</td>\n",
       "      <td>0.839</td>\n",
       "    </tr>\n",
       "    <tr>\n",
       "      <th>11</th>\n",
       "      <td>Pasivo_desembolso</td>\n",
       "      <td>0.831</td>\n",
       "    </tr>\n",
       "    <tr>\n",
       "      <th>1</th>\n",
       "      <td>Pasivo</td>\n",
       "      <td>0.831</td>\n",
       "    </tr>\n",
       "    <tr>\n",
       "      <th>7</th>\n",
       "      <td>Venta Formal</td>\n",
       "      <td>0.829</td>\n",
       "    </tr>\n",
       "    <tr>\n",
       "      <th>12</th>\n",
       "      <td>Desembolso_mes</td>\n",
       "      <td>0.004</td>\n",
       "    </tr>\n",
       "  </tbody>\n",
       "</table>\n",
       "</div>"
      ],
      "text/plain": [
       "                Variable   Gini\n",
       "13        Saldo Promedio  0.990\n",
       "8          Deuda Sistea,  0.989\n",
       "0                  Saldo  0.989\n",
       "10     Deuda rezagada va  0.987\n",
       "6      Deuda rezagada vr  0.986\n",
       "9                 Venta   0.931\n",
       "2     pasivo rezagada va  0.861\n",
       "3   Pasivo_desembolso da  0.858\n",
       "4     pasivo rezagada vr  0.840\n",
       "5   Pasivo_desembolso dr  0.839\n",
       "11     Pasivo_desembolso  0.831\n",
       "1                 Pasivo  0.831\n",
       "7           Venta Formal  0.829\n",
       "12        Desembolso_mes  0.004"
      ]
     },
     "execution_count": 30,
     "metadata": {},
     "output_type": "execute_result"
    }
   ],
   "source": [
    "df2[\"Impactado\"] = df[\"Impactado\"]\n",
    "data = (gini_continuo(df2,col_ncat,\"Impactado\"))\n",
    "data.sort_values('Gini',ascending=False)"
   ]
  },
  {
   "cell_type": "code",
   "execution_count": 31,
   "metadata": {},
   "outputs": [
    {
     "data": {
      "text/html": [
       "<div>\n",
       "<style scoped>\n",
       "    .dataframe tbody tr th:only-of-type {\n",
       "        vertical-align: middle;\n",
       "    }\n",
       "\n",
       "    .dataframe tbody tr th {\n",
       "        vertical-align: top;\n",
       "    }\n",
       "\n",
       "    .dataframe thead th {\n",
       "        text-align: right;\n",
       "    }\n",
       "</style>\n",
       "<table border=\"1\" class=\"dataframe\">\n",
       "  <thead>\n",
       "    <tr style=\"text-align: right;\">\n",
       "      <th></th>\n",
       "      <th>Variable</th>\n",
       "      <th>Gini</th>\n",
       "    </tr>\n",
       "  </thead>\n",
       "  <tbody>\n",
       "    <tr>\n",
       "      <th>2</th>\n",
       "      <td>Sector de Impacto</td>\n",
       "      <td>0.116</td>\n",
       "    </tr>\n",
       "    <tr>\n",
       "      <th>0</th>\n",
       "      <td>Sector</td>\n",
       "      <td>0.089</td>\n",
       "    </tr>\n",
       "    <tr>\n",
       "      <th>1</th>\n",
       "      <td>Turismo</td>\n",
       "      <td>0.034</td>\n",
       "    </tr>\n",
       "  </tbody>\n",
       "</table>\n",
       "</div>"
      ],
      "text/plain": [
       "            Variable   Gini\n",
       "2  Sector de Impacto  0.116\n",
       "0             Sector  0.089\n",
       "1            Turismo  0.034"
      ]
     },
     "execution_count": 31,
     "metadata": {},
     "output_type": "execute_result"
    }
   ],
   "source": [
    "## Para las variables categóricas\n",
    "result_f2 = pd.DataFrame(columns=['Variable','Gini'])\n",
    "for i in col_cat:\n",
    "    A=gini_categorico(df2,i,\"Impactado\")\n",
    "    result_f2.loc[len(result_f2)]=[A.loc[0].values[0],A.loc[0].values[1]]\n",
    "    result_f2 = result_f2.sort_values('Gini',ascending=False)\n",
    "result_f2"
   ]
  },
  {
   "cell_type": "markdown",
   "metadata": {},
   "source": [
    "Al evaluar las variables categóricas se pueden ver que son menos importantes para el modelo.<br>\n",
    "\"Turismo\" y \"Sector\" son candidatas a eliminar. <br><b>Conservaremos \"Sector de Impacto\" para fines didácticos(asumiendo que el negocio nos da esa indicación), aunque podría eliminarse también</b>."
   ]
  },
  {
   "cell_type": "markdown",
   "metadata": {},
   "source": [
    "De acuerdo a lo mostrado en la Matriz de Correlación, el Ranking de Importancias y los Valores Gini se eliminarán las siguientes variables continuas:\n",
    "* Saldo\n",
    "* Pasivo_desembolso\n",
    "* Pasivo_desembolso da\n",
    "* pasivo rezagada vr\n",
    "* Venta formal\n",
    "* Desembolso_mes(el aporte al modelo es muy bajo)\n",
    "<br><br>\n",
    "También eliminaremos las siguientes variables categóricas:\n",
    "* Turismo\n",
    "* Sector; por ser las que menos aportan al modelo."
   ]
  },
  {
   "cell_type": "markdown",
   "metadata": {},
   "source": [
    "### Depurando el dataset"
   ]
  },
  {
   "cell_type": "code",
   "execution_count": 32,
   "metadata": {},
   "outputs": [
    {
     "data": {
      "text/html": [
       "<div>\n",
       "<style scoped>\n",
       "    .dataframe tbody tr th:only-of-type {\n",
       "        vertical-align: middle;\n",
       "    }\n",
       "\n",
       "    .dataframe tbody tr th {\n",
       "        vertical-align: top;\n",
       "    }\n",
       "\n",
       "    .dataframe thead th {\n",
       "        text-align: right;\n",
       "    }\n",
       "</style>\n",
       "<table border=\"1\" class=\"dataframe\">\n",
       "  <thead>\n",
       "    <tr style=\"text-align: right;\">\n",
       "      <th></th>\n",
       "      <th>Saldo Promedio</th>\n",
       "      <th>Deuda Sistea,</th>\n",
       "      <th>Pasivo</th>\n",
       "      <th>Sector de Impacto</th>\n",
       "      <th>Venta</th>\n",
       "      <th>Deuda rezagada va</th>\n",
       "      <th>Deuda rezagada vr</th>\n",
       "      <th>pasivo rezagada va</th>\n",
       "      <th>Pasivo_desembolso dr</th>\n",
       "      <th>Impactado</th>\n",
       "    </tr>\n",
       "  </thead>\n",
       "  <tbody>\n",
       "    <tr>\n",
       "      <th>0</th>\n",
       "      <td>28321.550</td>\n",
       "      <td>31365.73</td>\n",
       "      <td>5876.82</td>\n",
       "      <td>3</td>\n",
       "      <td>108400.0</td>\n",
       "      <td>-800.65</td>\n",
       "      <td>-0.025</td>\n",
       "      <td>830.82</td>\n",
       "      <td>0.165</td>\n",
       "      <td>0</td>\n",
       "    </tr>\n",
       "    <tr>\n",
       "      <th>1</th>\n",
       "      <td>63437.998</td>\n",
       "      <td>64864.99</td>\n",
       "      <td>4467.40</td>\n",
       "      <td>4</td>\n",
       "      <td>105300.0</td>\n",
       "      <td>-2810.52</td>\n",
       "      <td>-0.042</td>\n",
       "      <td>-7043.43</td>\n",
       "      <td>-0.612</td>\n",
       "      <td>0</td>\n",
       "    </tr>\n",
       "    <tr>\n",
       "      <th>2</th>\n",
       "      <td>182533.858</td>\n",
       "      <td>200239.32</td>\n",
       "      <td>5000.92</td>\n",
       "      <td>1</td>\n",
       "      <td>86600.0</td>\n",
       "      <td>653.68</td>\n",
       "      <td>0.003</td>\n",
       "      <td>2000.92</td>\n",
       "      <td>0.667</td>\n",
       "      <td>0</td>\n",
       "    </tr>\n",
       "    <tr>\n",
       "      <th>3</th>\n",
       "      <td>94638.069</td>\n",
       "      <td>112945.17</td>\n",
       "      <td>325.50</td>\n",
       "      <td>3</td>\n",
       "      <td>103000.0</td>\n",
       "      <td>14820.77</td>\n",
       "      <td>0.151</td>\n",
       "      <td>-17128.30</td>\n",
       "      <td>-0.981</td>\n",
       "      <td>0</td>\n",
       "    </tr>\n",
       "    <tr>\n",
       "      <th>4</th>\n",
       "      <td>47432.146</td>\n",
       "      <td>144877.21</td>\n",
       "      <td>0.00</td>\n",
       "      <td>4</td>\n",
       "      <td>172920.0</td>\n",
       "      <td>17468.60</td>\n",
       "      <td>0.137</td>\n",
       "      <td>-2071.80</td>\n",
       "      <td>-1.000</td>\n",
       "      <td>0</td>\n",
       "    </tr>\n",
       "    <tr>\n",
       "      <th>...</th>\n",
       "      <td>...</td>\n",
       "      <td>...</td>\n",
       "      <td>...</td>\n",
       "      <td>...</td>\n",
       "      <td>...</td>\n",
       "      <td>...</td>\n",
       "      <td>...</td>\n",
       "      <td>...</td>\n",
       "      <td>...</td>\n",
       "      <td>...</td>\n",
       "    </tr>\n",
       "    <tr>\n",
       "      <th>1993</th>\n",
       "      <td>1441.950</td>\n",
       "      <td>1624.47</td>\n",
       "      <td>2558.31</td>\n",
       "      <td>4</td>\n",
       "      <td>30000.0</td>\n",
       "      <td>-710.56</td>\n",
       "      <td>-0.304</td>\n",
       "      <td>-3174.29</td>\n",
       "      <td>-0.543</td>\n",
       "      <td>1</td>\n",
       "    </tr>\n",
       "    <tr>\n",
       "      <th>1994</th>\n",
       "      <td>31550.209</td>\n",
       "      <td>75502.84</td>\n",
       "      <td>3029.48</td>\n",
       "      <td>4</td>\n",
       "      <td>32100.0</td>\n",
       "      <td>-5421.28</td>\n",
       "      <td>-0.067</td>\n",
       "      <td>-10965.03</td>\n",
       "      <td>-0.784</td>\n",
       "      <td>1</td>\n",
       "    </tr>\n",
       "    <tr>\n",
       "      <th>1995</th>\n",
       "      <td>249193.112</td>\n",
       "      <td>843972.49</td>\n",
       "      <td>593.99</td>\n",
       "      <td>3</td>\n",
       "      <td>180905.0</td>\n",
       "      <td>6776.19</td>\n",
       "      <td>0.008</td>\n",
       "      <td>-11589.60</td>\n",
       "      <td>-0.951</td>\n",
       "      <td>1</td>\n",
       "    </tr>\n",
       "    <tr>\n",
       "      <th>1996</th>\n",
       "      <td>6025.994</td>\n",
       "      <td>122633.10</td>\n",
       "      <td>5312.64</td>\n",
       "      <td>3</td>\n",
       "      <td>69500.0</td>\n",
       "      <td>-3838.01</td>\n",
       "      <td>-0.030</td>\n",
       "      <td>-18929.55</td>\n",
       "      <td>-0.781</td>\n",
       "      <td>1</td>\n",
       "    </tr>\n",
       "    <tr>\n",
       "      <th>1997</th>\n",
       "      <td>97561.751</td>\n",
       "      <td>269538.61</td>\n",
       "      <td>2558.31</td>\n",
       "      <td>4</td>\n",
       "      <td>50514.0</td>\n",
       "      <td>-26220.40</td>\n",
       "      <td>-0.089</td>\n",
       "      <td>-3174.29</td>\n",
       "      <td>-0.543</td>\n",
       "      <td>1</td>\n",
       "    </tr>\n",
       "  </tbody>\n",
       "</table>\n",
       "<p>1998 rows × 10 columns</p>\n",
       "</div>"
      ],
      "text/plain": [
       "      Saldo Promedio  Deuda Sistea,   Pasivo Sector de Impacto    Venta   Deuda rezagada va  \\\n",
       "0          28321.550       31365.73  5876.82                 3  108400.0            -800.65   \n",
       "1          63437.998       64864.99  4467.40                 4  105300.0           -2810.52   \n",
       "2         182533.858      200239.32  5000.92                 1   86600.0             653.68   \n",
       "3          94638.069      112945.17   325.50                 3  103000.0           14820.77   \n",
       "4          47432.146      144877.21     0.00                 4  172920.0           17468.60   \n",
       "...              ...            ...      ...               ...       ...                ...   \n",
       "1993        1441.950        1624.47  2558.31                 4   30000.0            -710.56   \n",
       "1994       31550.209       75502.84  3029.48                 4   32100.0           -5421.28   \n",
       "1995      249193.112      843972.49   593.99                 3  180905.0            6776.19   \n",
       "1996        6025.994      122633.10  5312.64                 3   69500.0           -3838.01   \n",
       "1997       97561.751      269538.61  2558.31                 4   50514.0          -26220.40   \n",
       "\n",
       "      Deuda rezagada vr  pasivo rezagada va  Pasivo_desembolso dr  Impactado  \n",
       "0                -0.025              830.82                 0.165          0  \n",
       "1                -0.042            -7043.43                -0.612          0  \n",
       "2                 0.003             2000.92                 0.667          0  \n",
       "3                 0.151           -17128.30                -0.981          0  \n",
       "4                 0.137            -2071.80                -1.000          0  \n",
       "...                 ...                 ...                   ...        ...  \n",
       "1993             -0.304            -3174.29                -0.543          1  \n",
       "1994             -0.067           -10965.03                -0.784          1  \n",
       "1995              0.008           -11589.60                -0.951          1  \n",
       "1996             -0.030           -18929.55                -0.781          1  \n",
       "1997             -0.089            -3174.29                -0.543          1  \n",
       "\n",
       "[1998 rows x 10 columns]"
      ]
     },
     "execution_count": 32,
     "metadata": {},
     "output_type": "execute_result"
    }
   ],
   "source": [
    "df2 = df2.drop([\"Saldo\",\"Pasivo_desembolso\",\"Pasivo_desembolso da\",\"pasivo rezagada vr\",\n",
    "                \"Venta Formal\",\"Desembolso_mes\",\"Turismo\",\"Sector\"], axis = 1)\n",
    "df2"
   ]
  },
  {
   "cell_type": "markdown",
   "metadata": {},
   "source": [
    "<a id=\"section45\"></a>\n",
    "## <font color=\"#004D7F\"> 4.5. Tratamiento de Outliers y Depuración de Variables</font>"
   ]
  },
  {
   "cell_type": "markdown",
   "metadata": {},
   "source": [
    "Para completar el preprocesamiento de los datos vamos a procesar los outliers, primero los identificamos y luego les impiutaremos las cotas superior e inferior."
   ]
  },
  {
   "cell_type": "markdown",
   "metadata": {},
   "source": [
    "Presentación Visual de Outliers.<br>\n",
    "Para este fin utilizaremos los gráficos de Box Plot o gráfico de bigotes"
   ]
  },
  {
   "cell_type": "code",
   "execution_count": 33,
   "metadata": {},
   "outputs": [
    {
     "data": {
      "image/png": "[encoded data removed]",
      "text/plain": [
       "<Figure size 1296x1224 with 25 Axes>"
      ]
     },
     "metadata": {
      "needs_background": "light"
     },
     "output_type": "display_data"
    }
   ],
   "source": [
    "# box and whisker plots - Matplotlib\n",
    "fig = plt.figure(figsize = (18,17))\n",
    "ax = fig.gca()\n",
    "df2.plot(ax=ax, kind='box', subplots=True, layout=(5,5), sharex=False, sharey=False)\n",
    "plt.show()"
   ]
  },
  {
   "cell_type": "markdown",
   "metadata": {},
   "source": [
    "Del gráfico podemos apreciar la existencia de Outliers en las varaibles de nuestro dataset.<br>\n",
    "Vamos a utilizar dos métodos para identificar los outliers:<br>\n",
    "* Rango Intercuartílico.\n",
    "* Puntuazión Z."
   ]
  },
  {
   "cell_type": "markdown",
   "metadata": {},
   "source": [
    "<a id=\"section451\"></a>\n",
    "### <font color=\"#004D7F\">4.5.1 Rango Intercuartílico</font>\n",
    "Esta herramienta nos permite conocer los valores que están fuera de nuestros cuartiles."
   ]
  },
  {
   "cell_type": "code",
   "execution_count": 34,
   "metadata": {},
   "outputs": [
    {
     "data": {
      "text/plain": [
       "Index(['Saldo Promedio', 'Deuda Sistea,', 'Pasivo', 'Sector de Impacto', 'Venta ',\n",
       "       'Deuda rezagada va', 'Deuda rezagada vr', 'pasivo rezagada va', 'Pasivo_desembolso dr',\n",
       "       'Impactado'],\n",
       "      dtype='object')"
      ]
     },
     "execution_count": 34,
     "metadata": {},
     "output_type": "execute_result"
    }
   ],
   "source": [
    "## LAS columnas de nuestro dataset\n",
    "df2.columns"
   ]
  },
  {
   "cell_type": "code",
   "execution_count": 35,
   "metadata": {},
   "outputs": [],
   "source": [
    "## Las columnas con las cuales vamos a trabajar\n",
    "var_col = ['Saldo Promedio', 'Deuda Sistea,', 'Pasivo', #'Sector de Impacto',\n",
    "       'Venta ', 'Deuda rezagada va', 'Deuda rezagada vr',\n",
    "       'pasivo rezagada va', 'Pasivo_desembolso dr']\n",
    "\n",
    "## Utilizaremos otro dataset para procesar los datos\n",
    "df3 = df2"
   ]
  },
  {
   "cell_type": "code",
   "execution_count": 36,
   "metadata": {},
   "outputs": [],
   "source": [
    "for i in var_col:\n",
    "    #print(i)\n",
    "    iqr = df3[i].quantile(0.75) - df3[i].quantile(0.25)\n",
    "    df3[i+\"_flg_out\"]=(df3[i]< np.percentile(df3[i], 25)-1.5*iqr) | (df3[i]> np.percentile(df3[i], 75)+1.5*iqr)\n",
    "    ##Estas columnas son para saber si son outliers inferiores o superiores\n",
    "    df3[i+\"_lim_inf\"] = ( df3[i]< np.percentile(df3[i], 25)-1.5*iqr ) \n",
    "    df3[i+\"_lim_sup\"] = ( df3[i]> np.percentile(df3[i], 75)+1.5*iqr )\n",
    "    #print(iqr)5"
   ]
  },
  {
   "cell_type": "code",
   "execution_count": 44,
   "metadata": {},
   "outputs": [
    {
     "data": {
      "text/html": [
       "<div>\n",
       "<style scoped>\n",
       "    .dataframe tbody tr th:only-of-type {\n",
       "        vertical-align: middle;\n",
       "    }\n",
       "\n",
       "    .dataframe tbody tr th {\n",
       "        vertical-align: top;\n",
       "    }\n",
       "\n",
       "    .dataframe thead th {\n",
       "        text-align: right;\n",
       "    }\n",
       "</style>\n",
       "<table border=\"1\" class=\"dataframe\">\n",
       "  <thead>\n",
       "    <tr style=\"text-align: right;\">\n",
       "      <th></th>\n",
       "      <th>Saldo Promedio</th>\n",
       "      <th>Deuda Sistea,</th>\n",
       "      <th>Pasivo</th>\n",
       "      <th>Sector de Impacto</th>\n",
       "      <th>Venta</th>\n",
       "      <th>Deuda rezagada va</th>\n",
       "      <th>Deuda rezagada vr</th>\n",
       "      <th>pasivo rezagada va</th>\n",
       "      <th>Pasivo_desembolso dr</th>\n",
       "      <th>Impactado</th>\n",
       "      <th>...</th>\n",
       "      <th>Pasivo_desembolso dr_lim_inf</th>\n",
       "      <th>Pasivo_desembolso dr_lim_sup</th>\n",
       "      <th>Saldo Promedio_flg_out2</th>\n",
       "      <th>Deuda Sistea,_flg_out2</th>\n",
       "      <th>Pasivo_flg_out2</th>\n",
       "      <th>Venta _flg_out2</th>\n",
       "      <th>Deuda rezagada va_flg_out2</th>\n",
       "      <th>Deuda rezagada vr_flg_out2</th>\n",
       "      <th>pasivo rezagada va_flg_out2</th>\n",
       "      <th>Pasivo_desembolso dr_flg_out2</th>\n",
       "    </tr>\n",
       "  </thead>\n",
       "  <tbody>\n",
       "    <tr>\n",
       "      <th>0</th>\n",
       "      <td>28321.550</td>\n",
       "      <td>31365.730</td>\n",
       "      <td>5876.82</td>\n",
       "      <td>3</td>\n",
       "      <td>108400.0</td>\n",
       "      <td>-800.65</td>\n",
       "      <td>-0.025</td>\n",
       "      <td>830.82</td>\n",
       "      <td>0.165</td>\n",
       "      <td>0</td>\n",
       "      <td>...</td>\n",
       "      <td>False</td>\n",
       "      <td>False</td>\n",
       "      <td>False</td>\n",
       "      <td>False</td>\n",
       "      <td>False</td>\n",
       "      <td>False</td>\n",
       "      <td>False</td>\n",
       "      <td>False</td>\n",
       "      <td>False</td>\n",
       "      <td>False</td>\n",
       "    </tr>\n",
       "    <tr>\n",
       "      <th>1</th>\n",
       "      <td>63437.998</td>\n",
       "      <td>64864.990</td>\n",
       "      <td>4467.40</td>\n",
       "      <td>4</td>\n",
       "      <td>105300.0</td>\n",
       "      <td>-2810.52</td>\n",
       "      <td>-0.042</td>\n",
       "      <td>-7043.43</td>\n",
       "      <td>-0.612</td>\n",
       "      <td>0</td>\n",
       "      <td>...</td>\n",
       "      <td>False</td>\n",
       "      <td>False</td>\n",
       "      <td>False</td>\n",
       "      <td>False</td>\n",
       "      <td>False</td>\n",
       "      <td>False</td>\n",
       "      <td>False</td>\n",
       "      <td>False</td>\n",
       "      <td>False</td>\n",
       "      <td>False</td>\n",
       "    </tr>\n",
       "    <tr>\n",
       "      <th>2</th>\n",
       "      <td>182533.858</td>\n",
       "      <td>200239.320</td>\n",
       "      <td>5000.92</td>\n",
       "      <td>1</td>\n",
       "      <td>86600.0</td>\n",
       "      <td>653.68</td>\n",
       "      <td>0.003</td>\n",
       "      <td>2000.92</td>\n",
       "      <td>0.667</td>\n",
       "      <td>0</td>\n",
       "      <td>...</td>\n",
       "      <td>False</td>\n",
       "      <td>True</td>\n",
       "      <td>False</td>\n",
       "      <td>False</td>\n",
       "      <td>False</td>\n",
       "      <td>False</td>\n",
       "      <td>False</td>\n",
       "      <td>False</td>\n",
       "      <td>False</td>\n",
       "      <td>False</td>\n",
       "    </tr>\n",
       "    <tr>\n",
       "      <th>3</th>\n",
       "      <td>94638.069</td>\n",
       "      <td>112945.170</td>\n",
       "      <td>325.50</td>\n",
       "      <td>3</td>\n",
       "      <td>103000.0</td>\n",
       "      <td>14820.77</td>\n",
       "      <td>0.151</td>\n",
       "      <td>-17128.30</td>\n",
       "      <td>-0.981</td>\n",
       "      <td>0</td>\n",
       "      <td>...</td>\n",
       "      <td>False</td>\n",
       "      <td>False</td>\n",
       "      <td>False</td>\n",
       "      <td>False</td>\n",
       "      <td>False</td>\n",
       "      <td>False</td>\n",
       "      <td>False</td>\n",
       "      <td>False</td>\n",
       "      <td>False</td>\n",
       "      <td>False</td>\n",
       "    </tr>\n",
       "    <tr>\n",
       "      <th>4</th>\n",
       "      <td>47432.146</td>\n",
       "      <td>144877.210</td>\n",
       "      <td>0.00</td>\n",
       "      <td>4</td>\n",
       "      <td>172920.0</td>\n",
       "      <td>17468.60</td>\n",
       "      <td>0.137</td>\n",
       "      <td>-2071.80</td>\n",
       "      <td>-1.000</td>\n",
       "      <td>0</td>\n",
       "      <td>...</td>\n",
       "      <td>False</td>\n",
       "      <td>False</td>\n",
       "      <td>False</td>\n",
       "      <td>False</td>\n",
       "      <td>False</td>\n",
       "      <td>False</td>\n",
       "      <td>False</td>\n",
       "      <td>False</td>\n",
       "      <td>False</td>\n",
       "      <td>False</td>\n",
       "    </tr>\n",
       "    <tr>\n",
       "      <th>...</th>\n",
       "      <td>...</td>\n",
       "      <td>...</td>\n",
       "      <td>...</td>\n",
       "      <td>...</td>\n",
       "      <td>...</td>\n",
       "      <td>...</td>\n",
       "      <td>...</td>\n",
       "      <td>...</td>\n",
       "      <td>...</td>\n",
       "      <td>...</td>\n",
       "      <td>...</td>\n",
       "      <td>...</td>\n",
       "      <td>...</td>\n",
       "      <td>...</td>\n",
       "      <td>...</td>\n",
       "      <td>...</td>\n",
       "      <td>...</td>\n",
       "      <td>...</td>\n",
       "      <td>...</td>\n",
       "      <td>...</td>\n",
       "      <td>...</td>\n",
       "    </tr>\n",
       "    <tr>\n",
       "      <th>1993</th>\n",
       "      <td>1441.950</td>\n",
       "      <td>1624.470</td>\n",
       "      <td>2558.31</td>\n",
       "      <td>4</td>\n",
       "      <td>30000.0</td>\n",
       "      <td>-710.56</td>\n",
       "      <td>-0.304</td>\n",
       "      <td>-3174.29</td>\n",
       "      <td>-0.543</td>\n",
       "      <td>1</td>\n",
       "      <td>...</td>\n",
       "      <td>False</td>\n",
       "      <td>False</td>\n",
       "      <td>False</td>\n",
       "      <td>False</td>\n",
       "      <td>False</td>\n",
       "      <td>False</td>\n",
       "      <td>False</td>\n",
       "      <td>False</td>\n",
       "      <td>False</td>\n",
       "      <td>False</td>\n",
       "    </tr>\n",
       "    <tr>\n",
       "      <th>1994</th>\n",
       "      <td>31550.209</td>\n",
       "      <td>75502.840</td>\n",
       "      <td>3029.48</td>\n",
       "      <td>4</td>\n",
       "      <td>32100.0</td>\n",
       "      <td>-5421.28</td>\n",
       "      <td>-0.067</td>\n",
       "      <td>-10965.03</td>\n",
       "      <td>-0.784</td>\n",
       "      <td>1</td>\n",
       "      <td>...</td>\n",
       "      <td>False</td>\n",
       "      <td>False</td>\n",
       "      <td>False</td>\n",
       "      <td>False</td>\n",
       "      <td>False</td>\n",
       "      <td>False</td>\n",
       "      <td>False</td>\n",
       "      <td>False</td>\n",
       "      <td>False</td>\n",
       "      <td>False</td>\n",
       "    </tr>\n",
       "    <tr>\n",
       "      <th>1995</th>\n",
       "      <td>249193.112</td>\n",
       "      <td>289898.423</td>\n",
       "      <td>593.99</td>\n",
       "      <td>3</td>\n",
       "      <td>180905.0</td>\n",
       "      <td>6776.19</td>\n",
       "      <td>0.008</td>\n",
       "      <td>-11589.60</td>\n",
       "      <td>-0.951</td>\n",
       "      <td>1</td>\n",
       "      <td>...</td>\n",
       "      <td>False</td>\n",
       "      <td>False</td>\n",
       "      <td>False</td>\n",
       "      <td>True</td>\n",
       "      <td>False</td>\n",
       "      <td>False</td>\n",
       "      <td>False</td>\n",
       "      <td>False</td>\n",
       "      <td>False</td>\n",
       "      <td>False</td>\n",
       "    </tr>\n",
       "    <tr>\n",
       "      <th>1996</th>\n",
       "      <td>6025.994</td>\n",
       "      <td>122633.100</td>\n",
       "      <td>5312.64</td>\n",
       "      <td>3</td>\n",
       "      <td>69500.0</td>\n",
       "      <td>-3838.01</td>\n",
       "      <td>-0.030</td>\n",
       "      <td>-18929.55</td>\n",
       "      <td>-0.781</td>\n",
       "      <td>1</td>\n",
       "      <td>...</td>\n",
       "      <td>False</td>\n",
       "      <td>False</td>\n",
       "      <td>False</td>\n",
       "      <td>False</td>\n",
       "      <td>False</td>\n",
       "      <td>False</td>\n",
       "      <td>False</td>\n",
       "      <td>False</td>\n",
       "      <td>False</td>\n",
       "      <td>False</td>\n",
       "    </tr>\n",
       "    <tr>\n",
       "      <th>1997</th>\n",
       "      <td>97561.751</td>\n",
       "      <td>269538.610</td>\n",
       "      <td>2558.31</td>\n",
       "      <td>4</td>\n",
       "      <td>50514.0</td>\n",
       "      <td>-26220.40</td>\n",
       "      <td>-0.089</td>\n",
       "      <td>-3174.29</td>\n",
       "      <td>-0.543</td>\n",
       "      <td>1</td>\n",
       "      <td>...</td>\n",
       "      <td>False</td>\n",
       "      <td>False</td>\n",
       "      <td>False</td>\n",
       "      <td>False</td>\n",
       "      <td>False</td>\n",
       "      <td>False</td>\n",
       "      <td>False</td>\n",
       "      <td>False</td>\n",
       "      <td>False</td>\n",
       "      <td>False</td>\n",
       "    </tr>\n",
       "  </tbody>\n",
       "</table>\n",
       "<p>1998 rows × 42 columns</p>\n",
       "</div>"
      ],
      "text/plain": [
       "      Saldo Promedio  Deuda Sistea,   Pasivo Sector de Impacto    Venta   Deuda rezagada va  \\\n",
       "0          28321.550      31365.730  5876.82                 3  108400.0            -800.65   \n",
       "1          63437.998      64864.990  4467.40                 4  105300.0           -2810.52   \n",
       "2         182533.858     200239.320  5000.92                 1   86600.0             653.68   \n",
       "3          94638.069     112945.170   325.50                 3  103000.0           14820.77   \n",
       "4          47432.146     144877.210     0.00                 4  172920.0           17468.60   \n",
       "...              ...            ...      ...               ...       ...                ...   \n",
       "1993        1441.950       1624.470  2558.31                 4   30000.0            -710.56   \n",
       "1994       31550.209      75502.840  3029.48                 4   32100.0           -5421.28   \n",
       "1995      249193.112     289898.423   593.99                 3  180905.0            6776.19   \n",
       "1996        6025.994     122633.100  5312.64                 3   69500.0           -3838.01   \n",
       "1997       97561.751     269538.610  2558.31                 4   50514.0          -26220.40   \n",
       "\n",
       "      Deuda rezagada vr  pasivo rezagada va  Pasivo_desembolso dr  Impactado  ...  \\\n",
       "0                -0.025              830.82                 0.165          0  ...   \n",
       "1                -0.042            -7043.43                -0.612          0  ...   \n",
       "2                 0.003             2000.92                 0.667          0  ...   \n",
       "3                 0.151           -17128.30                -0.981          0  ...   \n",
       "4                 0.137            -2071.80                -1.000          0  ...   \n",
       "...                 ...                 ...                   ...        ...  ...   \n",
       "1993             -0.304            -3174.29                -0.543          1  ...   \n",
       "1994             -0.067           -10965.03                -0.784          1  ...   \n",
       "1995              0.008           -11589.60                -0.951          1  ...   \n",
       "1996             -0.030           -18929.55                -0.781          1  ...   \n",
       "1997             -0.089            -3174.29                -0.543          1  ...   \n",
       "\n",
       "      Pasivo_desembolso dr_lim_inf  Pasivo_desembolso dr_lim_sup  Saldo Promedio_flg_out2  \\\n",
       "0                            False                         False                    False   \n",
       "1                            False                         False                    False   \n",
       "2                            False                          True                    False   \n",
       "3                            False                         False                    False   \n",
       "4                            False                         False                    False   \n",
       "...                            ...                           ...                      ...   \n",
       "1993                         False                         False                    False   \n",
       "1994                         False                         False                    False   \n",
       "1995                         False                         False                    False   \n",
       "1996                         False                         False                    False   \n",
       "1997                         False                         False                    False   \n",
       "\n",
       "      Deuda Sistea,_flg_out2  Pasivo_flg_out2  Venta _flg_out2  Deuda rezagada va_flg_out2  \\\n",
       "0                      False            False            False                       False   \n",
       "1                      False            False            False                       False   \n",
       "2                      False            False            False                       False   \n",
       "3                      False            False            False                       False   \n",
       "4                      False            False            False                       False   \n",
       "...                      ...              ...              ...                         ...   \n",
       "1993                   False            False            False                       False   \n",
       "1994                   False            False            False                       False   \n",
       "1995                    True            False            False                       False   \n",
       "1996                   False            False            False                       False   \n",
       "1997                   False            False            False                       False   \n",
       "\n",
       "      Deuda rezagada vr_flg_out2  pasivo rezagada va_flg_out2  Pasivo_desembolso dr_flg_out2  \n",
       "0                          False                        False                          False  \n",
       "1                          False                        False                          False  \n",
       "2                          False                        False                          False  \n",
       "3                          False                        False                          False  \n",
       "4                          False                        False                          False  \n",
       "...                          ...                          ...                            ...  \n",
       "1993                       False                        False                          False  \n",
       "1994                       False                        False                          False  \n",
       "1995                       False                        False                          False  \n",
       "1996                       False                        False                          False  \n",
       "1997                       False                        False                          False  \n",
       "\n",
       "[1998 rows x 42 columns]"
      ]
     },
     "execution_count": 44,
     "metadata": {},
     "output_type": "execute_result"
    }
   ],
   "source": [
    "###El Dataset con las variables creadas\n",
    "df3"
   ]
  },
  {
   "cell_type": "markdown",
   "metadata": {},
   "source": [
    "<a id=\"section452\"></a>\n",
    "### <font color=\"#004D7F\">4.5.2 Puntuación Z</font>\n",
    "Esta herramienta también nos permite conocer los valores que están fuera de nuestros cuartiles."
   ]
  },
  {
   "cell_type": "code",
   "execution_count": 38,
   "metadata": {},
   "outputs": [
    {
     "data": {
      "text/html": [
       "<div>\n",
       "<style scoped>\n",
       "    .dataframe tbody tr th:only-of-type {\n",
       "        vertical-align: middle;\n",
       "    }\n",
       "\n",
       "    .dataframe tbody tr th {\n",
       "        vertical-align: top;\n",
       "    }\n",
       "\n",
       "    .dataframe thead th {\n",
       "        text-align: right;\n",
       "    }\n",
       "</style>\n",
       "<table border=\"1\" class=\"dataframe\">\n",
       "  <thead>\n",
       "    <tr style=\"text-align: right;\">\n",
       "      <th></th>\n",
       "      <th>Saldo Promedio</th>\n",
       "      <th>Deuda Sistea,</th>\n",
       "      <th>Pasivo</th>\n",
       "      <th>Sector de Impacto</th>\n",
       "      <th>Venta</th>\n",
       "      <th>Deuda rezagada va</th>\n",
       "      <th>Deuda rezagada vr</th>\n",
       "      <th>pasivo rezagada va</th>\n",
       "      <th>Pasivo_desembolso dr</th>\n",
       "      <th>Impactado</th>\n",
       "      <th>...</th>\n",
       "      <th>Pasivo_desembolso dr_lim_inf</th>\n",
       "      <th>Pasivo_desembolso dr_lim_sup</th>\n",
       "      <th>Saldo Promedio_flg_out2</th>\n",
       "      <th>Deuda Sistea,_flg_out2</th>\n",
       "      <th>Pasivo_flg_out2</th>\n",
       "      <th>Venta _flg_out2</th>\n",
       "      <th>Deuda rezagada va_flg_out2</th>\n",
       "      <th>Deuda rezagada vr_flg_out2</th>\n",
       "      <th>pasivo rezagada va_flg_out2</th>\n",
       "      <th>Pasivo_desembolso dr_flg_out2</th>\n",
       "    </tr>\n",
       "  </thead>\n",
       "  <tbody>\n",
       "    <tr>\n",
       "      <th>0</th>\n",
       "      <td>28321.550</td>\n",
       "      <td>31365.73</td>\n",
       "      <td>5876.82</td>\n",
       "      <td>3</td>\n",
       "      <td>108400.0</td>\n",
       "      <td>-800.65</td>\n",
       "      <td>-0.025</td>\n",
       "      <td>830.82</td>\n",
       "      <td>0.165</td>\n",
       "      <td>0</td>\n",
       "      <td>...</td>\n",
       "      <td>False</td>\n",
       "      <td>False</td>\n",
       "      <td>False</td>\n",
       "      <td>False</td>\n",
       "      <td>False</td>\n",
       "      <td>False</td>\n",
       "      <td>False</td>\n",
       "      <td>False</td>\n",
       "      <td>False</td>\n",
       "      <td>False</td>\n",
       "    </tr>\n",
       "    <tr>\n",
       "      <th>1</th>\n",
       "      <td>63437.998</td>\n",
       "      <td>64864.99</td>\n",
       "      <td>4467.40</td>\n",
       "      <td>4</td>\n",
       "      <td>105300.0</td>\n",
       "      <td>-2810.52</td>\n",
       "      <td>-0.042</td>\n",
       "      <td>-7043.43</td>\n",
       "      <td>-0.612</td>\n",
       "      <td>0</td>\n",
       "      <td>...</td>\n",
       "      <td>False</td>\n",
       "      <td>False</td>\n",
       "      <td>False</td>\n",
       "      <td>False</td>\n",
       "      <td>False</td>\n",
       "      <td>False</td>\n",
       "      <td>False</td>\n",
       "      <td>False</td>\n",
       "      <td>False</td>\n",
       "      <td>False</td>\n",
       "    </tr>\n",
       "    <tr>\n",
       "      <th>2</th>\n",
       "      <td>182533.858</td>\n",
       "      <td>200239.32</td>\n",
       "      <td>5000.92</td>\n",
       "      <td>1</td>\n",
       "      <td>86600.0</td>\n",
       "      <td>653.68</td>\n",
       "      <td>0.003</td>\n",
       "      <td>2000.92</td>\n",
       "      <td>0.667</td>\n",
       "      <td>0</td>\n",
       "      <td>...</td>\n",
       "      <td>False</td>\n",
       "      <td>True</td>\n",
       "      <td>False</td>\n",
       "      <td>False</td>\n",
       "      <td>False</td>\n",
       "      <td>False</td>\n",
       "      <td>False</td>\n",
       "      <td>False</td>\n",
       "      <td>False</td>\n",
       "      <td>False</td>\n",
       "    </tr>\n",
       "    <tr>\n",
       "      <th>3</th>\n",
       "      <td>94638.069</td>\n",
       "      <td>112945.17</td>\n",
       "      <td>325.50</td>\n",
       "      <td>3</td>\n",
       "      <td>103000.0</td>\n",
       "      <td>14820.77</td>\n",
       "      <td>0.151</td>\n",
       "      <td>-17128.30</td>\n",
       "      <td>-0.981</td>\n",
       "      <td>0</td>\n",
       "      <td>...</td>\n",
       "      <td>False</td>\n",
       "      <td>False</td>\n",
       "      <td>False</td>\n",
       "      <td>False</td>\n",
       "      <td>False</td>\n",
       "      <td>False</td>\n",
       "      <td>False</td>\n",
       "      <td>False</td>\n",
       "      <td>False</td>\n",
       "      <td>False</td>\n",
       "    </tr>\n",
       "    <tr>\n",
       "      <th>4</th>\n",
       "      <td>47432.146</td>\n",
       "      <td>144877.21</td>\n",
       "      <td>0.00</td>\n",
       "      <td>4</td>\n",
       "      <td>172920.0</td>\n",
       "      <td>17468.60</td>\n",
       "      <td>0.137</td>\n",
       "      <td>-2071.80</td>\n",
       "      <td>-1.000</td>\n",
       "      <td>0</td>\n",
       "      <td>...</td>\n",
       "      <td>False</td>\n",
       "      <td>False</td>\n",
       "      <td>False</td>\n",
       "      <td>False</td>\n",
       "      <td>False</td>\n",
       "      <td>False</td>\n",
       "      <td>False</td>\n",
       "      <td>False</td>\n",
       "      <td>False</td>\n",
       "      <td>False</td>\n",
       "    </tr>\n",
       "    <tr>\n",
       "      <th>...</th>\n",
       "      <td>...</td>\n",
       "      <td>...</td>\n",
       "      <td>...</td>\n",
       "      <td>...</td>\n",
       "      <td>...</td>\n",
       "      <td>...</td>\n",
       "      <td>...</td>\n",
       "      <td>...</td>\n",
       "      <td>...</td>\n",
       "      <td>...</td>\n",
       "      <td>...</td>\n",
       "      <td>...</td>\n",
       "      <td>...</td>\n",
       "      <td>...</td>\n",
       "      <td>...</td>\n",
       "      <td>...</td>\n",
       "      <td>...</td>\n",
       "      <td>...</td>\n",
       "      <td>...</td>\n",
       "      <td>...</td>\n",
       "      <td>...</td>\n",
       "    </tr>\n",
       "    <tr>\n",
       "      <th>1993</th>\n",
       "      <td>1441.950</td>\n",
       "      <td>1624.47</td>\n",
       "      <td>2558.31</td>\n",
       "      <td>4</td>\n",
       "      <td>30000.0</td>\n",
       "      <td>-710.56</td>\n",
       "      <td>-0.304</td>\n",
       "      <td>-3174.29</td>\n",
       "      <td>-0.543</td>\n",
       "      <td>1</td>\n",
       "      <td>...</td>\n",
       "      <td>False</td>\n",
       "      <td>False</td>\n",
       "      <td>False</td>\n",
       "      <td>False</td>\n",
       "      <td>False</td>\n",
       "      <td>False</td>\n",
       "      <td>False</td>\n",
       "      <td>False</td>\n",
       "      <td>False</td>\n",
       "      <td>False</td>\n",
       "    </tr>\n",
       "    <tr>\n",
       "      <th>1994</th>\n",
       "      <td>31550.209</td>\n",
       "      <td>75502.84</td>\n",
       "      <td>3029.48</td>\n",
       "      <td>4</td>\n",
       "      <td>32100.0</td>\n",
       "      <td>-5421.28</td>\n",
       "      <td>-0.067</td>\n",
       "      <td>-10965.03</td>\n",
       "      <td>-0.784</td>\n",
       "      <td>1</td>\n",
       "      <td>...</td>\n",
       "      <td>False</td>\n",
       "      <td>False</td>\n",
       "      <td>False</td>\n",
       "      <td>False</td>\n",
       "      <td>False</td>\n",
       "      <td>False</td>\n",
       "      <td>False</td>\n",
       "      <td>False</td>\n",
       "      <td>False</td>\n",
       "      <td>False</td>\n",
       "    </tr>\n",
       "    <tr>\n",
       "      <th>1995</th>\n",
       "      <td>249193.112</td>\n",
       "      <td>843972.49</td>\n",
       "      <td>593.99</td>\n",
       "      <td>3</td>\n",
       "      <td>180905.0</td>\n",
       "      <td>6776.19</td>\n",
       "      <td>0.008</td>\n",
       "      <td>-11589.60</td>\n",
       "      <td>-0.951</td>\n",
       "      <td>1</td>\n",
       "      <td>...</td>\n",
       "      <td>False</td>\n",
       "      <td>False</td>\n",
       "      <td>False</td>\n",
       "      <td>True</td>\n",
       "      <td>False</td>\n",
       "      <td>False</td>\n",
       "      <td>False</td>\n",
       "      <td>False</td>\n",
       "      <td>False</td>\n",
       "      <td>False</td>\n",
       "    </tr>\n",
       "    <tr>\n",
       "      <th>1996</th>\n",
       "      <td>6025.994</td>\n",
       "      <td>122633.10</td>\n",
       "      <td>5312.64</td>\n",
       "      <td>3</td>\n",
       "      <td>69500.0</td>\n",
       "      <td>-3838.01</td>\n",
       "      <td>-0.030</td>\n",
       "      <td>-18929.55</td>\n",
       "      <td>-0.781</td>\n",
       "      <td>1</td>\n",
       "      <td>...</td>\n",
       "      <td>False</td>\n",
       "      <td>False</td>\n",
       "      <td>False</td>\n",
       "      <td>False</td>\n",
       "      <td>False</td>\n",
       "      <td>False</td>\n",
       "      <td>False</td>\n",
       "      <td>False</td>\n",
       "      <td>False</td>\n",
       "      <td>False</td>\n",
       "    </tr>\n",
       "    <tr>\n",
       "      <th>1997</th>\n",
       "      <td>97561.751</td>\n",
       "      <td>269538.61</td>\n",
       "      <td>2558.31</td>\n",
       "      <td>4</td>\n",
       "      <td>50514.0</td>\n",
       "      <td>-26220.40</td>\n",
       "      <td>-0.089</td>\n",
       "      <td>-3174.29</td>\n",
       "      <td>-0.543</td>\n",
       "      <td>1</td>\n",
       "      <td>...</td>\n",
       "      <td>False</td>\n",
       "      <td>False</td>\n",
       "      <td>False</td>\n",
       "      <td>False</td>\n",
       "      <td>False</td>\n",
       "      <td>False</td>\n",
       "      <td>False</td>\n",
       "      <td>False</td>\n",
       "      <td>False</td>\n",
       "      <td>False</td>\n",
       "    </tr>\n",
       "  </tbody>\n",
       "</table>\n",
       "<p>1998 rows × 42 columns</p>\n",
       "</div>"
      ],
      "text/plain": [
       "      Saldo Promedio  Deuda Sistea,   Pasivo Sector de Impacto    Venta   Deuda rezagada va  \\\n",
       "0          28321.550       31365.73  5876.82                 3  108400.0            -800.65   \n",
       "1          63437.998       64864.99  4467.40                 4  105300.0           -2810.52   \n",
       "2         182533.858      200239.32  5000.92                 1   86600.0             653.68   \n",
       "3          94638.069      112945.17   325.50                 3  103000.0           14820.77   \n",
       "4          47432.146      144877.21     0.00                 4  172920.0           17468.60   \n",
       "...              ...            ...      ...               ...       ...                ...   \n",
       "1993        1441.950        1624.47  2558.31                 4   30000.0            -710.56   \n",
       "1994       31550.209       75502.84  3029.48                 4   32100.0           -5421.28   \n",
       "1995      249193.112      843972.49   593.99                 3  180905.0            6776.19   \n",
       "1996        6025.994      122633.10  5312.64                 3   69500.0           -3838.01   \n",
       "1997       97561.751      269538.61  2558.31                 4   50514.0          -26220.40   \n",
       "\n",
       "      Deuda rezagada vr  pasivo rezagada va  Pasivo_desembolso dr  Impactado  ...  \\\n",
       "0                -0.025              830.82                 0.165          0  ...   \n",
       "1                -0.042            -7043.43                -0.612          0  ...   \n",
       "2                 0.003             2000.92                 0.667          0  ...   \n",
       "3                 0.151           -17128.30                -0.981          0  ...   \n",
       "4                 0.137            -2071.80                -1.000          0  ...   \n",
       "...                 ...                 ...                   ...        ...  ...   \n",
       "1993             -0.304            -3174.29                -0.543          1  ...   \n",
       "1994             -0.067           -10965.03                -0.784          1  ...   \n",
       "1995              0.008           -11589.60                -0.951          1  ...   \n",
       "1996             -0.030           -18929.55                -0.781          1  ...   \n",
       "1997             -0.089            -3174.29                -0.543          1  ...   \n",
       "\n",
       "      Pasivo_desembolso dr_lim_inf  Pasivo_desembolso dr_lim_sup  Saldo Promedio_flg_out2  \\\n",
       "0                            False                         False                    False   \n",
       "1                            False                         False                    False   \n",
       "2                            False                          True                    False   \n",
       "3                            False                         False                    False   \n",
       "4                            False                         False                    False   \n",
       "...                            ...                           ...                      ...   \n",
       "1993                         False                         False                    False   \n",
       "1994                         False                         False                    False   \n",
       "1995                         False                         False                    False   \n",
       "1996                         False                         False                    False   \n",
       "1997                         False                         False                    False   \n",
       "\n",
       "      Deuda Sistea,_flg_out2  Pasivo_flg_out2  Venta _flg_out2  Deuda rezagada va_flg_out2  \\\n",
       "0                      False            False            False                       False   \n",
       "1                      False            False            False                       False   \n",
       "2                      False            False            False                       False   \n",
       "3                      False            False            False                       False   \n",
       "4                      False            False            False                       False   \n",
       "...                      ...              ...              ...                         ...   \n",
       "1993                   False            False            False                       False   \n",
       "1994                   False            False            False                       False   \n",
       "1995                    True            False            False                       False   \n",
       "1996                   False            False            False                       False   \n",
       "1997                   False            False            False                       False   \n",
       "\n",
       "      Deuda rezagada vr_flg_out2  pasivo rezagada va_flg_out2  Pasivo_desembolso dr_flg_out2  \n",
       "0                          False                        False                          False  \n",
       "1                          False                        False                          False  \n",
       "2                          False                        False                          False  \n",
       "3                          False                        False                          False  \n",
       "4                          False                        False                          False  \n",
       "...                          ...                          ...                            ...  \n",
       "1993                       False                        False                          False  \n",
       "1994                       False                        False                          False  \n",
       "1995                       False                        False                          False  \n",
       "1996                       False                        False                          False  \n",
       "1997                       False                        False                          False  \n",
       "\n",
       "[1998 rows x 42 columns]"
      ]
     },
     "execution_count": 38,
     "metadata": {},
     "output_type": "execute_result"
    }
   ],
   "source": [
    "for i in var_col:\n",
    "    p1=preprocessing.scale(df3[i])\n",
    "    df3[i+\"_flg_out2\"]=abs(p1)>2\n",
    "    \n",
    "\n",
    "#### Apreciaremos como va quedando nuestro dataset\n",
    "df3"
   ]
  },
  {
   "cell_type": "markdown",
   "metadata": {},
   "source": [
    "Los outliers serán los que cumplan los dos criterios, rango intercuartílico y puntuazión Z; esto por cada variable."
   ]
  },
  {
   "cell_type": "markdown",
   "metadata": {},
   "source": [
    "<a id=\"section453\"></a>\n",
    "### <font color=\"#004D7F\">4.5.3 Imputación de Cotas a Outliers</font>\n",
    "Con los dos criterios anteriormente descritos ya tenemos identificados a los outliers, en esta sección le imputaremos las cotas 75 y 25 o también puede ser el decil 10 y 90. En este caso imputaremos 75 y 25."
   ]
  },
  {
   "cell_type": "code",
   "execution_count": 46,
   "metadata": {},
   "outputs": [],
   "source": [
    "## Columnas a imputar\n",
    "arr_col = ['Saldo Promedio', 'Deuda Sistea,', 'Pasivo',\n",
    "       'Venta ', 'Deuda rezagada va', 'Deuda rezagada vr', 'pasivo rezagada va', 'Pasivo_desembolso dr']"
   ]
  },
  {
   "cell_type": "code",
   "execution_count": 47,
   "metadata": {},
   "outputs": [],
   "source": [
    "for c in arr_col:\n",
    "    #print(c)\n",
    "    q75 = df3[c].quantile(0.75)\n",
    "    #q75 = np.percentile(df3[c],90)\n",
    "    q25 = df3[c].quantile(0.25)\n",
    "    #q25 = np.percentile(df3[c],1)\n",
    "    #Ubicamos a los que complen la condicion de outlier intercuartil y puntuazión Z para la cota superior\n",
    "    idx = df3[ (df3[c+'_flg_out']==True) & (df3[c+'_flg_out2']==True) & (df3[c+\"_lim_sup\"]==True) ].index.values\n",
    "    #print(\"q75 \",idx)\n",
    "    #Le imputamos la cota superior\n",
    "    if(len(idx)>0):\n",
    "        ## Obtener el nro de la columna\n",
    "        df3[c] = np.where( (df3[c+'_flg_out']==True) & \n",
    "                           (df3[c+'_flg_out2']==True) & (df3[c+\"_lim_sup\"]==True)  , q75, df3[c])\n",
    "        #df3.iloc[idx,c] = q75\n",
    "    #Ubicamos a los que complen la condición de outlier intercuartil y puntuazión Z para la cota inferior\n",
    "    idx = df3[ (df3[c+'_flg_out']==True) & (df3[c+'_flg_out2']==True) & (df3[c+\"_lim_inf\"]==True) ].index.values\n",
    "    #Le imputamos la cota inferior\n",
    "    if(len(idx)>0):        \n",
    "        df3[c] = np.where( (df3[c+'_flg_out']==True) & \n",
    "                           (df3[c+'_flg_out2']==True) & (df3[c+\"_lim_inf\"]==True)  , q25, df3[c])\n",
    "        #df3.iloc[idx,c] = q25"
   ]
  },
  {
   "cell_type": "code",
   "execution_count": 48,
   "metadata": {},
   "outputs": [
    {
     "data": {
      "text/html": [
       "<div>\n",
       "<style scoped>\n",
       "    .dataframe tbody tr th:only-of-type {\n",
       "        vertical-align: middle;\n",
       "    }\n",
       "\n",
       "    .dataframe tbody tr th {\n",
       "        vertical-align: top;\n",
       "    }\n",
       "\n",
       "    .dataframe thead th {\n",
       "        text-align: right;\n",
       "    }\n",
       "</style>\n",
       "<table border=\"1\" class=\"dataframe\">\n",
       "  <thead>\n",
       "    <tr style=\"text-align: right;\">\n",
       "      <th></th>\n",
       "      <th>Saldo Promedio</th>\n",
       "      <th>Deuda Sistea,</th>\n",
       "      <th>Pasivo</th>\n",
       "      <th>Sector de Impacto</th>\n",
       "      <th>Venta</th>\n",
       "      <th>Deuda rezagada va</th>\n",
       "      <th>Deuda rezagada vr</th>\n",
       "      <th>pasivo rezagada va</th>\n",
       "      <th>Pasivo_desembolso dr</th>\n",
       "      <th>Impactado</th>\n",
       "      <th>...</th>\n",
       "      <th>Pasivo_desembolso dr_lim_inf</th>\n",
       "      <th>Pasivo_desembolso dr_lim_sup</th>\n",
       "      <th>Saldo Promedio_flg_out2</th>\n",
       "      <th>Deuda Sistea,_flg_out2</th>\n",
       "      <th>Pasivo_flg_out2</th>\n",
       "      <th>Venta _flg_out2</th>\n",
       "      <th>Deuda rezagada va_flg_out2</th>\n",
       "      <th>Deuda rezagada vr_flg_out2</th>\n",
       "      <th>pasivo rezagada va_flg_out2</th>\n",
       "      <th>Pasivo_desembolso dr_flg_out2</th>\n",
       "    </tr>\n",
       "  </thead>\n",
       "  <tbody>\n",
       "    <tr>\n",
       "      <th>0</th>\n",
       "      <td>28321.550</td>\n",
       "      <td>31365.730</td>\n",
       "      <td>5876.82</td>\n",
       "      <td>3</td>\n",
       "      <td>108400.0</td>\n",
       "      <td>-800.65</td>\n",
       "      <td>-0.025</td>\n",
       "      <td>830.82</td>\n",
       "      <td>0.165</td>\n",
       "      <td>0</td>\n",
       "      <td>...</td>\n",
       "      <td>False</td>\n",
       "      <td>False</td>\n",
       "      <td>False</td>\n",
       "      <td>False</td>\n",
       "      <td>False</td>\n",
       "      <td>False</td>\n",
       "      <td>False</td>\n",
       "      <td>False</td>\n",
       "      <td>False</td>\n",
       "      <td>False</td>\n",
       "    </tr>\n",
       "    <tr>\n",
       "      <th>1</th>\n",
       "      <td>63437.998</td>\n",
       "      <td>64864.990</td>\n",
       "      <td>4467.40</td>\n",
       "      <td>4</td>\n",
       "      <td>105300.0</td>\n",
       "      <td>-2810.52</td>\n",
       "      <td>-0.042</td>\n",
       "      <td>-7043.43</td>\n",
       "      <td>-0.612</td>\n",
       "      <td>0</td>\n",
       "      <td>...</td>\n",
       "      <td>False</td>\n",
       "      <td>False</td>\n",
       "      <td>False</td>\n",
       "      <td>False</td>\n",
       "      <td>False</td>\n",
       "      <td>False</td>\n",
       "      <td>False</td>\n",
       "      <td>False</td>\n",
       "      <td>False</td>\n",
       "      <td>False</td>\n",
       "    </tr>\n",
       "    <tr>\n",
       "      <th>2</th>\n",
       "      <td>182533.858</td>\n",
       "      <td>200239.320</td>\n",
       "      <td>5000.92</td>\n",
       "      <td>1</td>\n",
       "      <td>86600.0</td>\n",
       "      <td>653.68</td>\n",
       "      <td>0.003</td>\n",
       "      <td>2000.92</td>\n",
       "      <td>0.667</td>\n",
       "      <td>0</td>\n",
       "      <td>...</td>\n",
       "      <td>False</td>\n",
       "      <td>True</td>\n",
       "      <td>False</td>\n",
       "      <td>False</td>\n",
       "      <td>False</td>\n",
       "      <td>False</td>\n",
       "      <td>False</td>\n",
       "      <td>False</td>\n",
       "      <td>False</td>\n",
       "      <td>False</td>\n",
       "    </tr>\n",
       "    <tr>\n",
       "      <th>3</th>\n",
       "      <td>94638.069</td>\n",
       "      <td>112945.170</td>\n",
       "      <td>325.50</td>\n",
       "      <td>3</td>\n",
       "      <td>103000.0</td>\n",
       "      <td>14820.77</td>\n",
       "      <td>0.151</td>\n",
       "      <td>-17128.30</td>\n",
       "      <td>-0.981</td>\n",
       "      <td>0</td>\n",
       "      <td>...</td>\n",
       "      <td>False</td>\n",
       "      <td>False</td>\n",
       "      <td>False</td>\n",
       "      <td>False</td>\n",
       "      <td>False</td>\n",
       "      <td>False</td>\n",
       "      <td>False</td>\n",
       "      <td>False</td>\n",
       "      <td>False</td>\n",
       "      <td>False</td>\n",
       "    </tr>\n",
       "    <tr>\n",
       "      <th>4</th>\n",
       "      <td>47432.146</td>\n",
       "      <td>144877.210</td>\n",
       "      <td>0.00</td>\n",
       "      <td>4</td>\n",
       "      <td>172920.0</td>\n",
       "      <td>17468.60</td>\n",
       "      <td>0.137</td>\n",
       "      <td>-2071.80</td>\n",
       "      <td>-1.000</td>\n",
       "      <td>0</td>\n",
       "      <td>...</td>\n",
       "      <td>False</td>\n",
       "      <td>False</td>\n",
       "      <td>False</td>\n",
       "      <td>False</td>\n",
       "      <td>False</td>\n",
       "      <td>False</td>\n",
       "      <td>False</td>\n",
       "      <td>False</td>\n",
       "      <td>False</td>\n",
       "      <td>False</td>\n",
       "    </tr>\n",
       "    <tr>\n",
       "      <th>...</th>\n",
       "      <td>...</td>\n",
       "      <td>...</td>\n",
       "      <td>...</td>\n",
       "      <td>...</td>\n",
       "      <td>...</td>\n",
       "      <td>...</td>\n",
       "      <td>...</td>\n",
       "      <td>...</td>\n",
       "      <td>...</td>\n",
       "      <td>...</td>\n",
       "      <td>...</td>\n",
       "      <td>...</td>\n",
       "      <td>...</td>\n",
       "      <td>...</td>\n",
       "      <td>...</td>\n",
       "      <td>...</td>\n",
       "      <td>...</td>\n",
       "      <td>...</td>\n",
       "      <td>...</td>\n",
       "      <td>...</td>\n",
       "      <td>...</td>\n",
       "    </tr>\n",
       "    <tr>\n",
       "      <th>1993</th>\n",
       "      <td>1441.950</td>\n",
       "      <td>1624.470</td>\n",
       "      <td>2558.31</td>\n",
       "      <td>4</td>\n",
       "      <td>30000.0</td>\n",
       "      <td>-710.56</td>\n",
       "      <td>-0.304</td>\n",
       "      <td>-3174.29</td>\n",
       "      <td>-0.543</td>\n",
       "      <td>1</td>\n",
       "      <td>...</td>\n",
       "      <td>False</td>\n",
       "      <td>False</td>\n",
       "      <td>False</td>\n",
       "      <td>False</td>\n",
       "      <td>False</td>\n",
       "      <td>False</td>\n",
       "      <td>False</td>\n",
       "      <td>False</td>\n",
       "      <td>False</td>\n",
       "      <td>False</td>\n",
       "    </tr>\n",
       "    <tr>\n",
       "      <th>1994</th>\n",
       "      <td>31550.209</td>\n",
       "      <td>75502.840</td>\n",
       "      <td>3029.48</td>\n",
       "      <td>4</td>\n",
       "      <td>32100.0</td>\n",
       "      <td>-5421.28</td>\n",
       "      <td>-0.067</td>\n",
       "      <td>-10965.03</td>\n",
       "      <td>-0.784</td>\n",
       "      <td>1</td>\n",
       "      <td>...</td>\n",
       "      <td>False</td>\n",
       "      <td>False</td>\n",
       "      <td>False</td>\n",
       "      <td>False</td>\n",
       "      <td>False</td>\n",
       "      <td>False</td>\n",
       "      <td>False</td>\n",
       "      <td>False</td>\n",
       "      <td>False</td>\n",
       "      <td>False</td>\n",
       "    </tr>\n",
       "    <tr>\n",
       "      <th>1995</th>\n",
       "      <td>249193.112</td>\n",
       "      <td>289879.839</td>\n",
       "      <td>593.99</td>\n",
       "      <td>3</td>\n",
       "      <td>180905.0</td>\n",
       "      <td>6776.19</td>\n",
       "      <td>0.008</td>\n",
       "      <td>-11589.60</td>\n",
       "      <td>-0.951</td>\n",
       "      <td>1</td>\n",
       "      <td>...</td>\n",
       "      <td>False</td>\n",
       "      <td>False</td>\n",
       "      <td>False</td>\n",
       "      <td>True</td>\n",
       "      <td>False</td>\n",
       "      <td>False</td>\n",
       "      <td>False</td>\n",
       "      <td>False</td>\n",
       "      <td>False</td>\n",
       "      <td>False</td>\n",
       "    </tr>\n",
       "    <tr>\n",
       "      <th>1996</th>\n",
       "      <td>6025.994</td>\n",
       "      <td>122633.100</td>\n",
       "      <td>5312.64</td>\n",
       "      <td>3</td>\n",
       "      <td>69500.0</td>\n",
       "      <td>-3838.01</td>\n",
       "      <td>-0.030</td>\n",
       "      <td>-18929.55</td>\n",
       "      <td>-0.781</td>\n",
       "      <td>1</td>\n",
       "      <td>...</td>\n",
       "      <td>False</td>\n",
       "      <td>False</td>\n",
       "      <td>False</td>\n",
       "      <td>False</td>\n",
       "      <td>False</td>\n",
       "      <td>False</td>\n",
       "      <td>False</td>\n",
       "      <td>False</td>\n",
       "      <td>False</td>\n",
       "      <td>False</td>\n",
       "    </tr>\n",
       "    <tr>\n",
       "      <th>1997</th>\n",
       "      <td>97561.751</td>\n",
       "      <td>269538.610</td>\n",
       "      <td>2558.31</td>\n",
       "      <td>4</td>\n",
       "      <td>50514.0</td>\n",
       "      <td>-26220.40</td>\n",
       "      <td>-0.089</td>\n",
       "      <td>-3174.29</td>\n",
       "      <td>-0.543</td>\n",
       "      <td>1</td>\n",
       "      <td>...</td>\n",
       "      <td>False</td>\n",
       "      <td>False</td>\n",
       "      <td>False</td>\n",
       "      <td>False</td>\n",
       "      <td>False</td>\n",
       "      <td>False</td>\n",
       "      <td>False</td>\n",
       "      <td>False</td>\n",
       "      <td>False</td>\n",
       "      <td>False</td>\n",
       "    </tr>\n",
       "  </tbody>\n",
       "</table>\n",
       "<p>1998 rows × 42 columns</p>\n",
       "</div>"
      ],
      "text/plain": [
       "      Saldo Promedio  Deuda Sistea,   Pasivo Sector de Impacto    Venta   Deuda rezagada va  \\\n",
       "0          28321.550      31365.730  5876.82                 3  108400.0            -800.65   \n",
       "1          63437.998      64864.990  4467.40                 4  105300.0           -2810.52   \n",
       "2         182533.858     200239.320  5000.92                 1   86600.0             653.68   \n",
       "3          94638.069     112945.170   325.50                 3  103000.0           14820.77   \n",
       "4          47432.146     144877.210     0.00                 4  172920.0           17468.60   \n",
       "...              ...            ...      ...               ...       ...                ...   \n",
       "1993        1441.950       1624.470  2558.31                 4   30000.0            -710.56   \n",
       "1994       31550.209      75502.840  3029.48                 4   32100.0           -5421.28   \n",
       "1995      249193.112     289879.839   593.99                 3  180905.0            6776.19   \n",
       "1996        6025.994     122633.100  5312.64                 3   69500.0           -3838.01   \n",
       "1997       97561.751     269538.610  2558.31                 4   50514.0          -26220.40   \n",
       "\n",
       "      Deuda rezagada vr  pasivo rezagada va  Pasivo_desembolso dr  Impactado  ...  \\\n",
       "0                -0.025              830.82                 0.165          0  ...   \n",
       "1                -0.042            -7043.43                -0.612          0  ...   \n",
       "2                 0.003             2000.92                 0.667          0  ...   \n",
       "3                 0.151           -17128.30                -0.981          0  ...   \n",
       "4                 0.137            -2071.80                -1.000          0  ...   \n",
       "...                 ...                 ...                   ...        ...  ...   \n",
       "1993             -0.304            -3174.29                -0.543          1  ...   \n",
       "1994             -0.067           -10965.03                -0.784          1  ...   \n",
       "1995              0.008           -11589.60                -0.951          1  ...   \n",
       "1996             -0.030           -18929.55                -0.781          1  ...   \n",
       "1997             -0.089            -3174.29                -0.543          1  ...   \n",
       "\n",
       "      Pasivo_desembolso dr_lim_inf  Pasivo_desembolso dr_lim_sup  Saldo Promedio_flg_out2  \\\n",
       "0                            False                         False                    False   \n",
       "1                            False                         False                    False   \n",
       "2                            False                          True                    False   \n",
       "3                            False                         False                    False   \n",
       "4                            False                         False                    False   \n",
       "...                            ...                           ...                      ...   \n",
       "1993                         False                         False                    False   \n",
       "1994                         False                         False                    False   \n",
       "1995                         False                         False                    False   \n",
       "1996                         False                         False                    False   \n",
       "1997                         False                         False                    False   \n",
       "\n",
       "      Deuda Sistea,_flg_out2  Pasivo_flg_out2  Venta _flg_out2  Deuda rezagada va_flg_out2  \\\n",
       "0                      False            False            False                       False   \n",
       "1                      False            False            False                       False   \n",
       "2                      False            False            False                       False   \n",
       "3                      False            False            False                       False   \n",
       "4                      False            False            False                       False   \n",
       "...                      ...              ...              ...                         ...   \n",
       "1993                   False            False            False                       False   \n",
       "1994                   False            False            False                       False   \n",
       "1995                    True            False            False                       False   \n",
       "1996                   False            False            False                       False   \n",
       "1997                   False            False            False                       False   \n",
       "\n",
       "      Deuda rezagada vr_flg_out2  pasivo rezagada va_flg_out2  Pasivo_desembolso dr_flg_out2  \n",
       "0                          False                        False                          False  \n",
       "1                          False                        False                          False  \n",
       "2                          False                        False                          False  \n",
       "3                          False                        False                          False  \n",
       "4                          False                        False                          False  \n",
       "...                          ...                          ...                            ...  \n",
       "1993                       False                        False                          False  \n",
       "1994                       False                        False                          False  \n",
       "1995                       False                        False                          False  \n",
       "1996                       False                        False                          False  \n",
       "1997                       False                        False                          False  \n",
       "\n",
       "[1998 rows x 42 columns]"
      ]
     },
     "execution_count": 48,
     "metadata": {},
     "output_type": "execute_result"
    }
   ],
   "source": [
    "df3"
   ]
  },
  {
   "cell_type": "markdown",
   "metadata": {},
   "source": [
    "<a id=\"section454\"></a>\n",
    "### <font color=\"#004D7F\">4.5.4 Creación de Variables Dummy</font>\n",
    "Debido a que la variable \"Sector de Impacto\" es categórica aunque tenga valores enteros, por lo que vamos a transformarla en dummy."
   ]
  },
  {
   "cell_type": "code",
   "execution_count": 49,
   "metadata": {},
   "outputs": [],
   "source": [
    "## Las columnas a procesar\n",
    "var_col = ['Saldo Promedio', 'Deuda Sistea,', 'Pasivo', 'Sector de Impacto',\n",
    "       'Venta ', 'Deuda rezagada va', 'Deuda rezagada vr',\n",
    "       'pasivo rezagada va', 'Pasivo_desembolso dr']"
   ]
  },
  {
   "cell_type": "code",
   "execution_count": 50,
   "metadata": {},
   "outputs": [
    {
     "data": {
      "text/html": [
       "<div>\n",
       "<style scoped>\n",
       "    .dataframe tbody tr th:only-of-type {\n",
       "        vertical-align: middle;\n",
       "    }\n",
       "\n",
       "    .dataframe tbody tr th {\n",
       "        vertical-align: top;\n",
       "    }\n",
       "\n",
       "    .dataframe thead th {\n",
       "        text-align: right;\n",
       "    }\n",
       "</style>\n",
       "<table border=\"1\" class=\"dataframe\">\n",
       "  <thead>\n",
       "    <tr style=\"text-align: right;\">\n",
       "      <th></th>\n",
       "      <th>Saldo Promedio</th>\n",
       "      <th>Deuda Sistea,</th>\n",
       "      <th>Pasivo</th>\n",
       "      <th>Venta</th>\n",
       "      <th>Deuda rezagada va</th>\n",
       "      <th>Deuda rezagada vr</th>\n",
       "      <th>pasivo rezagada va</th>\n",
       "      <th>Pasivo_desembolso dr</th>\n",
       "      <th>si_1</th>\n",
       "      <th>si_2</th>\n",
       "      <th>si_3</th>\n",
       "      <th>si_4</th>\n",
       "    </tr>\n",
       "  </thead>\n",
       "  <tbody>\n",
       "    <tr>\n",
       "      <th>0</th>\n",
       "      <td>28321.550</td>\n",
       "      <td>31365.730</td>\n",
       "      <td>5876.82</td>\n",
       "      <td>108400.0</td>\n",
       "      <td>-800.65</td>\n",
       "      <td>-0.025</td>\n",
       "      <td>830.82</td>\n",
       "      <td>0.165</td>\n",
       "      <td>0</td>\n",
       "      <td>0</td>\n",
       "      <td>1</td>\n",
       "      <td>0</td>\n",
       "    </tr>\n",
       "    <tr>\n",
       "      <th>1</th>\n",
       "      <td>63437.998</td>\n",
       "      <td>64864.990</td>\n",
       "      <td>4467.40</td>\n",
       "      <td>105300.0</td>\n",
       "      <td>-2810.52</td>\n",
       "      <td>-0.042</td>\n",
       "      <td>-7043.43</td>\n",
       "      <td>-0.612</td>\n",
       "      <td>0</td>\n",
       "      <td>0</td>\n",
       "      <td>0</td>\n",
       "      <td>1</td>\n",
       "    </tr>\n",
       "    <tr>\n",
       "      <th>2</th>\n",
       "      <td>182533.858</td>\n",
       "      <td>200239.320</td>\n",
       "      <td>5000.92</td>\n",
       "      <td>86600.0</td>\n",
       "      <td>653.68</td>\n",
       "      <td>0.003</td>\n",
       "      <td>2000.92</td>\n",
       "      <td>0.667</td>\n",
       "      <td>1</td>\n",
       "      <td>0</td>\n",
       "      <td>0</td>\n",
       "      <td>0</td>\n",
       "    </tr>\n",
       "    <tr>\n",
       "      <th>3</th>\n",
       "      <td>94638.069</td>\n",
       "      <td>112945.170</td>\n",
       "      <td>325.50</td>\n",
       "      <td>103000.0</td>\n",
       "      <td>14820.77</td>\n",
       "      <td>0.151</td>\n",
       "      <td>-17128.30</td>\n",
       "      <td>-0.981</td>\n",
       "      <td>0</td>\n",
       "      <td>0</td>\n",
       "      <td>1</td>\n",
       "      <td>0</td>\n",
       "    </tr>\n",
       "    <tr>\n",
       "      <th>4</th>\n",
       "      <td>47432.146</td>\n",
       "      <td>144877.210</td>\n",
       "      <td>0.00</td>\n",
       "      <td>172920.0</td>\n",
       "      <td>17468.60</td>\n",
       "      <td>0.137</td>\n",
       "      <td>-2071.80</td>\n",
       "      <td>-1.000</td>\n",
       "      <td>0</td>\n",
       "      <td>0</td>\n",
       "      <td>0</td>\n",
       "      <td>1</td>\n",
       "    </tr>\n",
       "    <tr>\n",
       "      <th>...</th>\n",
       "      <td>...</td>\n",
       "      <td>...</td>\n",
       "      <td>...</td>\n",
       "      <td>...</td>\n",
       "      <td>...</td>\n",
       "      <td>...</td>\n",
       "      <td>...</td>\n",
       "      <td>...</td>\n",
       "      <td>...</td>\n",
       "      <td>...</td>\n",
       "      <td>...</td>\n",
       "      <td>...</td>\n",
       "    </tr>\n",
       "    <tr>\n",
       "      <th>1993</th>\n",
       "      <td>1441.950</td>\n",
       "      <td>1624.470</td>\n",
       "      <td>2558.31</td>\n",
       "      <td>30000.0</td>\n",
       "      <td>-710.56</td>\n",
       "      <td>-0.304</td>\n",
       "      <td>-3174.29</td>\n",
       "      <td>-0.543</td>\n",
       "      <td>0</td>\n",
       "      <td>0</td>\n",
       "      <td>0</td>\n",
       "      <td>1</td>\n",
       "    </tr>\n",
       "    <tr>\n",
       "      <th>1994</th>\n",
       "      <td>31550.209</td>\n",
       "      <td>75502.840</td>\n",
       "      <td>3029.48</td>\n",
       "      <td>32100.0</td>\n",
       "      <td>-5421.28</td>\n",
       "      <td>-0.067</td>\n",
       "      <td>-10965.03</td>\n",
       "      <td>-0.784</td>\n",
       "      <td>0</td>\n",
       "      <td>0</td>\n",
       "      <td>0</td>\n",
       "      <td>1</td>\n",
       "    </tr>\n",
       "    <tr>\n",
       "      <th>1995</th>\n",
       "      <td>249193.112</td>\n",
       "      <td>289879.839</td>\n",
       "      <td>593.99</td>\n",
       "      <td>180905.0</td>\n",
       "      <td>6776.19</td>\n",
       "      <td>0.008</td>\n",
       "      <td>-11589.60</td>\n",
       "      <td>-0.951</td>\n",
       "      <td>0</td>\n",
       "      <td>0</td>\n",
       "      <td>1</td>\n",
       "      <td>0</td>\n",
       "    </tr>\n",
       "    <tr>\n",
       "      <th>1996</th>\n",
       "      <td>6025.994</td>\n",
       "      <td>122633.100</td>\n",
       "      <td>5312.64</td>\n",
       "      <td>69500.0</td>\n",
       "      <td>-3838.01</td>\n",
       "      <td>-0.030</td>\n",
       "      <td>-18929.55</td>\n",
       "      <td>-0.781</td>\n",
       "      <td>0</td>\n",
       "      <td>0</td>\n",
       "      <td>1</td>\n",
       "      <td>0</td>\n",
       "    </tr>\n",
       "    <tr>\n",
       "      <th>1997</th>\n",
       "      <td>97561.751</td>\n",
       "      <td>269538.610</td>\n",
       "      <td>2558.31</td>\n",
       "      <td>50514.0</td>\n",
       "      <td>-26220.40</td>\n",
       "      <td>-0.089</td>\n",
       "      <td>-3174.29</td>\n",
       "      <td>-0.543</td>\n",
       "      <td>0</td>\n",
       "      <td>0</td>\n",
       "      <td>0</td>\n",
       "      <td>1</td>\n",
       "    </tr>\n",
       "  </tbody>\n",
       "</table>\n",
       "<p>1998 rows × 12 columns</p>\n",
       "</div>"
      ],
      "text/plain": [
       "      Saldo Promedio  Deuda Sistea,   Pasivo    Venta   Deuda rezagada va  Deuda rezagada vr  \\\n",
       "0          28321.550      31365.730  5876.82  108400.0            -800.65             -0.025   \n",
       "1          63437.998      64864.990  4467.40  105300.0           -2810.52             -0.042   \n",
       "2         182533.858     200239.320  5000.92   86600.0             653.68              0.003   \n",
       "3          94638.069     112945.170   325.50  103000.0           14820.77              0.151   \n",
       "4          47432.146     144877.210     0.00  172920.0           17468.60              0.137   \n",
       "...              ...            ...      ...       ...                ...                ...   \n",
       "1993        1441.950       1624.470  2558.31   30000.0            -710.56             -0.304   \n",
       "1994       31550.209      75502.840  3029.48   32100.0           -5421.28             -0.067   \n",
       "1995      249193.112     289879.839   593.99  180905.0            6776.19              0.008   \n",
       "1996        6025.994     122633.100  5312.64   69500.0           -3838.01             -0.030   \n",
       "1997       97561.751     269538.610  2558.31   50514.0          -26220.40             -0.089   \n",
       "\n",
       "      pasivo rezagada va  Pasivo_desembolso dr  si_1  si_2  si_3  si_4  \n",
       "0                 830.82                 0.165     0     0     1     0  \n",
       "1               -7043.43                -0.612     0     0     0     1  \n",
       "2                2000.92                 0.667     1     0     0     0  \n",
       "3              -17128.30                -0.981     0     0     1     0  \n",
       "4               -2071.80                -1.000     0     0     0     1  \n",
       "...                  ...                   ...   ...   ...   ...   ...  \n",
       "1993            -3174.29                -0.543     0     0     0     1  \n",
       "1994           -10965.03                -0.784     0     0     0     1  \n",
       "1995           -11589.60                -0.951     0     0     1     0  \n",
       "1996           -18929.55                -0.781     0     0     1     0  \n",
       "1997            -3174.29                -0.543     0     0     0     1  \n",
       "\n",
       "[1998 rows x 12 columns]"
      ]
     },
     "execution_count": 50,
     "metadata": {},
     "output_type": "execute_result"
    }
   ],
   "source": [
    "df4 = df3[var_col]\n",
    "\n",
    "tc_dummy = pd.get_dummies(df4[\"Sector de Impacto\"], prefix = \"si\")\n",
    "df4 = pd.concat([df4,tc_dummy], axis = 1)\n",
    "df4 = df4.drop([\"Sector de Impacto\"], axis = 1)\n",
    "df4"
   ]
  },
  {
   "cell_type": "markdown",
   "metadata": {},
   "source": [
    "Como se aprecia ya tenemos el dataset con las variables dummy que hemos creado."
   ]
  },
  {
   "cell_type": "markdown",
   "metadata": {},
   "source": [
    "<a id=\"section46\"></a>\n",
    "## <font color=\"#004D7F\"> 4.6. Normalización de Variables</font>"
   ]
  },
  {
   "cell_type": "markdown",
   "metadata": {},
   "source": [
    "Hemos visto que las variables que componen nuestro dataset no tienen la misma escala, por ejemplo, observemos la fila cero del dataset, la columna \"Saldo Promedio\" tiene una cantidad de 28321.550 y \"Deuda rezagada vr\" tiene un valor de -0.025; esta situación no es la mejor al momento de hacer las predicciones ya que muchos algoritmos ponderan las cantidades y le darían más importancia a \"Saldo Promedio\" lo que no sería lo correcto.<br>\n",
    "Para solucionar este tipo de situaciones se debe normalizar y estandarizar las variables, técnica que se realizará a continuación."
   ]
  },
  {
   "cell_type": "markdown",
   "metadata": {},
   "source": [
    "<a id=\"section461\"></a>\n",
    "### <font color=\"#004D7F\">4.6.1 Normalización Min-Max</font>\n",
    "Esta técnica nos ayudará a mejorar la distribución de las variables del dataset ajustándolas a una distribución normal."
   ]
  },
  {
   "cell_type": "code",
   "execution_count": 51,
   "metadata": {},
   "outputs": [
    {
     "data": {
      "text/html": [
       "<div>\n",
       "<style scoped>\n",
       "    .dataframe tbody tr th:only-of-type {\n",
       "        vertical-align: middle;\n",
       "    }\n",
       "\n",
       "    .dataframe tbody tr th {\n",
       "        vertical-align: top;\n",
       "    }\n",
       "\n",
       "    .dataframe thead th {\n",
       "        text-align: right;\n",
       "    }\n",
       "</style>\n",
       "<table border=\"1\" class=\"dataframe\">\n",
       "  <thead>\n",
       "    <tr style=\"text-align: right;\">\n",
       "      <th></th>\n",
       "      <th>Saldo Promedio</th>\n",
       "      <th>Deuda Sistea,</th>\n",
       "      <th>Pasivo</th>\n",
       "      <th>Venta</th>\n",
       "      <th>Deuda rezagada va</th>\n",
       "      <th>Deuda rezagada vr</th>\n",
       "      <th>pasivo rezagada va</th>\n",
       "      <th>Pasivo_desembolso dr</th>\n",
       "    </tr>\n",
       "  </thead>\n",
       "  <tbody>\n",
       "    <tr>\n",
       "      <th>0</th>\n",
       "      <td>0.048</td>\n",
       "      <td>0.038</td>\n",
       "      <td>0.025</td>\n",
       "      <td>0.318</td>\n",
       "      <td>0.502</td>\n",
       "      <td>0.462</td>\n",
       "      <td>0.568</td>\n",
       "      <td>2.167e-04</td>\n",
       "    </tr>\n",
       "    <tr>\n",
       "      <th>1</th>\n",
       "      <td>0.107</td>\n",
       "      <td>0.079</td>\n",
       "      <td>0.019</td>\n",
       "      <td>0.309</td>\n",
       "      <td>0.491</td>\n",
       "      <td>0.454</td>\n",
       "      <td>0.546</td>\n",
       "      <td>1.979e-04</td>\n",
       "    </tr>\n",
       "    <tr>\n",
       "      <th>2</th>\n",
       "      <td>0.307</td>\n",
       "      <td>0.242</td>\n",
       "      <td>0.022</td>\n",
       "      <td>0.253</td>\n",
       "      <td>0.509</td>\n",
       "      <td>0.476</td>\n",
       "      <td>0.572</td>\n",
       "      <td>2.289e-04</td>\n",
       "    </tr>\n",
       "    <tr>\n",
       "      <th>3</th>\n",
       "      <td>0.159</td>\n",
       "      <td>0.137</td>\n",
       "      <td>0.001</td>\n",
       "      <td>0.302</td>\n",
       "      <td>0.585</td>\n",
       "      <td>0.546</td>\n",
       "      <td>0.518</td>\n",
       "      <td>1.890e-04</td>\n",
       "    </tr>\n",
       "    <tr>\n",
       "      <th>4</th>\n",
       "      <td>0.080</td>\n",
       "      <td>0.175</td>\n",
       "      <td>0.000</td>\n",
       "      <td>0.511</td>\n",
       "      <td>0.599</td>\n",
       "      <td>0.539</td>\n",
       "      <td>0.560</td>\n",
       "      <td>1.885e-04</td>\n",
       "    </tr>\n",
       "    <tr>\n",
       "      <th>...</th>\n",
       "      <td>...</td>\n",
       "      <td>...</td>\n",
       "      <td>...</td>\n",
       "      <td>...</td>\n",
       "      <td>...</td>\n",
       "      <td>...</td>\n",
       "      <td>...</td>\n",
       "      <td>...</td>\n",
       "    </tr>\n",
       "    <tr>\n",
       "      <th>1993</th>\n",
       "      <td>0.002</td>\n",
       "      <td>0.002</td>\n",
       "      <td>0.011</td>\n",
       "      <td>0.083</td>\n",
       "      <td>0.502</td>\n",
       "      <td>0.330</td>\n",
       "      <td>0.557</td>\n",
       "      <td>1.996e-04</td>\n",
       "    </tr>\n",
       "    <tr>\n",
       "      <th>1994</th>\n",
       "      <td>0.053</td>\n",
       "      <td>0.091</td>\n",
       "      <td>0.013</td>\n",
       "      <td>0.090</td>\n",
       "      <td>0.477</td>\n",
       "      <td>0.442</td>\n",
       "      <td>0.535</td>\n",
       "      <td>1.938e-04</td>\n",
       "    </tr>\n",
       "    <tr>\n",
       "      <th>1995</th>\n",
       "      <td>0.420</td>\n",
       "      <td>0.351</td>\n",
       "      <td>0.003</td>\n",
       "      <td>0.535</td>\n",
       "      <td>0.542</td>\n",
       "      <td>0.478</td>\n",
       "      <td>0.534</td>\n",
       "      <td>1.897e-04</td>\n",
       "    </tr>\n",
       "    <tr>\n",
       "      <th>1996</th>\n",
       "      <td>0.010</td>\n",
       "      <td>0.148</td>\n",
       "      <td>0.023</td>\n",
       "      <td>0.202</td>\n",
       "      <td>0.485</td>\n",
       "      <td>0.460</td>\n",
       "      <td>0.513</td>\n",
       "      <td>1.938e-04</td>\n",
       "    </tr>\n",
       "    <tr>\n",
       "      <th>1997</th>\n",
       "      <td>0.164</td>\n",
       "      <td>0.326</td>\n",
       "      <td>0.011</td>\n",
       "      <td>0.145</td>\n",
       "      <td>0.366</td>\n",
       "      <td>0.432</td>\n",
       "      <td>0.557</td>\n",
       "      <td>1.996e-04</td>\n",
       "    </tr>\n",
       "  </tbody>\n",
       "</table>\n",
       "<p>1998 rows × 8 columns</p>\n",
       "</div>"
      ],
      "text/plain": [
       "      Saldo Promedio  Deuda Sistea,  Pasivo  Venta   Deuda rezagada va  Deuda rezagada vr  \\\n",
       "0              0.048          0.038   0.025   0.318              0.502              0.462   \n",
       "1              0.107          0.079   0.019   0.309              0.491              0.454   \n",
       "2              0.307          0.242   0.022   0.253              0.509              0.476   \n",
       "3              0.159          0.137   0.001   0.302              0.585              0.546   \n",
       "4              0.080          0.175   0.000   0.511              0.599              0.539   \n",
       "...              ...            ...     ...     ...                ...                ...   \n",
       "1993           0.002          0.002   0.011   0.083              0.502              0.330   \n",
       "1994           0.053          0.091   0.013   0.090              0.477              0.442   \n",
       "1995           0.420          0.351   0.003   0.535              0.542              0.478   \n",
       "1996           0.010          0.148   0.023   0.202              0.485              0.460   \n",
       "1997           0.164          0.326   0.011   0.145              0.366              0.432   \n",
       "\n",
       "      pasivo rezagada va  Pasivo_desembolso dr  \n",
       "0                  0.568             2.167e-04  \n",
       "1                  0.546             1.979e-04  \n",
       "2                  0.572             2.289e-04  \n",
       "3                  0.518             1.890e-04  \n",
       "4                  0.560             1.885e-04  \n",
       "...                  ...                   ...  \n",
       "1993               0.557             1.996e-04  \n",
       "1994               0.535             1.938e-04  \n",
       "1995               0.534             1.897e-04  \n",
       "1996               0.513             1.938e-04  \n",
       "1997               0.557             1.996e-04  \n",
       "\n",
       "[1998 rows x 8 columns]"
      ]
     },
     "execution_count": 51,
     "metadata": {},
     "output_type": "execute_result"
    }
   ],
   "source": [
    "## Estamos utilizando la técnica de normalizar por MinMaxScaler, o sea normalizar y escalar\n",
    "df5 = df4[ [\"si_1\",\"si_2\",\"si_3\",\"si_4\"] ]\n",
    "\n",
    "df4 = df4[ ['Saldo Promedio', 'Deuda Sistea,', 'Pasivo', 'Venta ',\n",
    "       'Deuda rezagada va', 'Deuda rezagada vr', 'pasivo rezagada va',\n",
    "       'Pasivo_desembolso dr'] ]\n",
    "#scaler = StandardScaler().fit(df4)  \n",
    "scaler = MinMaxScaler(feature_range=(0, 1))\n",
    "rescalerx = scaler.fit_transform(df4)\n",
    "\n",
    "df4 = pd.DataFrame(data=rescalerx, index=df4.index, columns=df4.columns)\n",
    "df4"
   ]
  },
  {
   "cell_type": "markdown",
   "metadata": {},
   "source": [
    "Como se aprecia en la salida del dataset han cambiado las escalas"
   ]
  },
  {
   "cell_type": "markdown",
   "metadata": {},
   "source": [
    "<a id=\"section462\"></a>\n",
    "### <font color=\"#004D7F\">4.6.2 Gráfico de Distribución de Variables</font>\n",
    "Vamos a apreciar la distribución luego de la transformación de los datos a la misma escala."
   ]
  },
  {
   "cell_type": "code",
   "execution_count": 52,
   "metadata": {},
   "outputs": [
    {
     "data": {
      "image/png": "[encoded data removed]",
      "text/plain": [
       "<Figure size 1440x1440 with 64 Axes>"
      ]
     },
     "metadata": {
      "needs_background": "light"
     },
     "output_type": "display_data"
    }
   ],
   "source": [
    "# density\n",
    "fig = plt.figure(figsize = (20,20))\n",
    "ax = fig.gca()\n",
    "df4.plot(ax=ax, kind='density', subplots=True, layout=(8,8), sharex=False, legend=False)\n",
    "plt.show()"
   ]
  },
  {
   "cell_type": "markdown",
   "metadata": {},
   "source": [
    "El gráfico indica que las variables parecen seguir una distribución normal, aunque con algún tipo de sesgo.<br>\n",
    "Por tanto aplicaremos la transformación de Yeo Johnson para corregir esas deficiencias"
   ]
  },
  {
   "cell_type": "markdown",
   "metadata": {},
   "source": [
    "<a id=\"section463\"></a>\n",
    "### <font color=\"#004D7F\">4.6.3 Transformación de Yeo-Johnson</font>\n",
    "Esta transformación nos ayudará a corregir los sesgos presentes en las variables del dataset tal como se aprecia en el gráfico de densidades; todo esto con la finalidad de mejorar la distribución de nuestras varaibles(que estén más normalizadas) y por ende la predicción del modelo."
   ]
  },
  {
   "cell_type": "code",
   "execution_count": 53,
   "metadata": {},
   "outputs": [
    {
     "data": {
      "text/html": [
       "<div>\n",
       "<style scoped>\n",
       "    .dataframe tbody tr th:only-of-type {\n",
       "        vertical-align: middle;\n",
       "    }\n",
       "\n",
       "    .dataframe tbody tr th {\n",
       "        vertical-align: top;\n",
       "    }\n",
       "\n",
       "    .dataframe thead th {\n",
       "        text-align: right;\n",
       "    }\n",
       "</style>\n",
       "<table border=\"1\" class=\"dataframe\">\n",
       "  <thead>\n",
       "    <tr style=\"text-align: right;\">\n",
       "      <th></th>\n",
       "      <th>Saldo Promedio</th>\n",
       "      <th>Deuda Sistea,</th>\n",
       "      <th>Pasivo</th>\n",
       "      <th>Venta</th>\n",
       "      <th>Deuda rezagada va</th>\n",
       "      <th>Deuda rezagada vr</th>\n",
       "      <th>pasivo rezagada va</th>\n",
       "      <th>Pasivo_desembolso dr</th>\n",
       "    </tr>\n",
       "  </thead>\n",
       "  <tbody>\n",
       "    <tr>\n",
       "      <th>0</th>\n",
       "      <td>-1.023</td>\n",
       "      <td>-1.328</td>\n",
       "      <td>0.344</td>\n",
       "      <td>0.703</td>\n",
       "      <td>0.128</td>\n",
       "      <td>-0.057</td>\n",
       "      <td>0.331</td>\n",
       "      <td>-0.137</td>\n",
       "    </tr>\n",
       "    <tr>\n",
       "      <th>1</th>\n",
       "      <td>-0.364</td>\n",
       "      <td>-0.903</td>\n",
       "      <td>0.088</td>\n",
       "      <td>0.656</td>\n",
       "      <td>0.019</td>\n",
       "      <td>-0.169</td>\n",
       "      <td>0.043</td>\n",
       "      <td>-0.182</td>\n",
       "    </tr>\n",
       "    <tr>\n",
       "      <th>2</th>\n",
       "      <td>0.937</td>\n",
       "      <td>0.311</td>\n",
       "      <td>0.189</td>\n",
       "      <td>0.339</td>\n",
       "      <td>0.206</td>\n",
       "      <td>0.131</td>\n",
       "      <td>0.375</td>\n",
       "      <td>-0.108</td>\n",
       "    </tr>\n",
       "    <tr>\n",
       "      <th>3</th>\n",
       "      <td>0.089</td>\n",
       "      <td>-0.393</td>\n",
       "      <td>-0.882</td>\n",
       "      <td>0.620</td>\n",
       "      <td>0.968</td>\n",
       "      <td>1.086</td>\n",
       "      <td>-0.306</td>\n",
       "      <td>-0.204</td>\n",
       "    </tr>\n",
       "    <tr>\n",
       "      <th>4</th>\n",
       "      <td>-0.642</td>\n",
       "      <td>-0.106</td>\n",
       "      <td>-0.975</td>\n",
       "      <td>1.436</td>\n",
       "      <td>1.110</td>\n",
       "      <td>0.998</td>\n",
       "      <td>0.223</td>\n",
       "      <td>-0.205</td>\n",
       "    </tr>\n",
       "    <tr>\n",
       "      <th>...</th>\n",
       "      <td>...</td>\n",
       "      <td>...</td>\n",
       "      <td>...</td>\n",
       "      <td>...</td>\n",
       "      <td>...</td>\n",
       "      <td>...</td>\n",
       "      <td>...</td>\n",
       "      <td>...</td>\n",
       "    </tr>\n",
       "    <tr>\n",
       "      <th>1993</th>\n",
       "      <td>-1.670</td>\n",
       "      <td>-1.763</td>\n",
       "      <td>-0.314</td>\n",
       "      <td>-1.098</td>\n",
       "      <td>0.132</td>\n",
       "      <td>-2.033</td>\n",
       "      <td>0.183</td>\n",
       "      <td>-0.178</td>\n",
       "    </tr>\n",
       "    <tr>\n",
       "      <th>1994</th>\n",
       "      <td>-0.955</td>\n",
       "      <td>-0.781</td>\n",
       "      <td>-0.208</td>\n",
       "      <td>-1.027</td>\n",
       "      <td>-0.123</td>\n",
       "      <td>-0.342</td>\n",
       "      <td>-0.096</td>\n",
       "      <td>-0.192</td>\n",
       "    </tr>\n",
       "    <tr>\n",
       "      <th>1995</th>\n",
       "      <td>1.322</td>\n",
       "      <td>0.827</td>\n",
       "      <td>-0.807</td>\n",
       "      <td>1.501</td>\n",
       "      <td>0.537</td>\n",
       "      <td>0.162</td>\n",
       "      <td>-0.117</td>\n",
       "      <td>-0.202</td>\n",
       "    </tr>\n",
       "    <tr>\n",
       "      <th>1996</th>\n",
       "      <td>-1.549</td>\n",
       "      <td>-0.302</td>\n",
       "      <td>0.245</td>\n",
       "      <td>-0.008</td>\n",
       "      <td>-0.037</td>\n",
       "      <td>-0.094</td>\n",
       "      <td>-0.366</td>\n",
       "      <td>-0.192</td>\n",
       "    </tr>\n",
       "    <tr>\n",
       "      <th>1997</th>\n",
       "      <td>0.127</td>\n",
       "      <td>0.724</td>\n",
       "      <td>-0.314</td>\n",
       "      <td>-0.473</td>\n",
       "      <td>-1.262</td>\n",
       "      <td>-0.490</td>\n",
       "      <td>0.183</td>\n",
       "      <td>-0.178</td>\n",
       "    </tr>\n",
       "  </tbody>\n",
       "</table>\n",
       "<p>1998 rows × 8 columns</p>\n",
       "</div>"
      ],
      "text/plain": [
       "      Saldo Promedio  Deuda Sistea,  Pasivo  Venta   Deuda rezagada va  Deuda rezagada vr  \\\n",
       "0             -1.023         -1.328   0.344   0.703              0.128             -0.057   \n",
       "1             -0.364         -0.903   0.088   0.656              0.019             -0.169   \n",
       "2              0.937          0.311   0.189   0.339              0.206              0.131   \n",
       "3              0.089         -0.393  -0.882   0.620              0.968              1.086   \n",
       "4             -0.642         -0.106  -0.975   1.436              1.110              0.998   \n",
       "...              ...            ...     ...     ...                ...                ...   \n",
       "1993          -1.670         -1.763  -0.314  -1.098              0.132             -2.033   \n",
       "1994          -0.955         -0.781  -0.208  -1.027             -0.123             -0.342   \n",
       "1995           1.322          0.827  -0.807   1.501              0.537              0.162   \n",
       "1996          -1.549         -0.302   0.245  -0.008             -0.037             -0.094   \n",
       "1997           0.127          0.724  -0.314  -0.473             -1.262             -0.490   \n",
       "\n",
       "      pasivo rezagada va  Pasivo_desembolso dr  \n",
       "0                  0.331                -0.137  \n",
       "1                  0.043                -0.182  \n",
       "2                  0.375                -0.108  \n",
       "3                 -0.306                -0.204  \n",
       "4                  0.223                -0.205  \n",
       "...                  ...                   ...  \n",
       "1993               0.183                -0.178  \n",
       "1994              -0.096                -0.192  \n",
       "1995              -0.117                -0.202  \n",
       "1996              -0.366                -0.192  \n",
       "1997               0.183                -0.178  \n",
       "\n",
       "[1998 rows x 8 columns]"
      ]
     },
     "execution_count": 53,
     "metadata": {},
     "output_type": "execute_result"
    }
   ],
   "source": [
    "features = df4[['Saldo Promedio', 'Deuda Sistea,', 'Pasivo', 'Venta ',\n",
    "       'Deuda rezagada va', 'Deuda rezagada vr', 'pasivo rezagada va',\n",
    "       'Pasivo_desembolso dr']]\n",
    "pt = PowerTransformer(method=\"yeo-johnson\", standardize=True,)\n",
    "skl_yh = pt.fit(features)\n",
    "calc_lambdas = skl_yh.lambdas_\n",
    "skl_yh = pt.transform(features)\n",
    "df_features = pd.DataFrame(data=skl_yh, columns = df4.columns)\n",
    "df_features"
   ]
  },
  {
   "cell_type": "markdown",
   "metadata": {},
   "source": [
    "Ahora veremos gráficamente cómo mejora la distribución de las variables."
   ]
  },
  {
   "cell_type": "code",
   "execution_count": 54,
   "metadata": {},
   "outputs": [
    {
     "data": {
      "image/png": "[encoded data removed]",
      "text/plain": [
       "<Figure size 1152x1152 with 64 Axes>"
      ]
     },
     "metadata": {
      "needs_background": "light"
     },
     "output_type": "display_data"
    }
   ],
   "source": [
    "# density\n",
    "fig = plt.figure(figsize = (16,16))\n",
    "ax = fig.gca()\n",
    "df_features.plot(ax=ax, kind='density', subplots=True, layout=(8,8), sharex=False, legend=False)\n",
    "plt.show()"
   ]
  },
  {
   "cell_type": "code",
   "execution_count": 55,
   "metadata": {},
   "outputs": [
    {
     "data": {
      "text/html": [
       "<div>\n",
       "<style scoped>\n",
       "    .dataframe tbody tr th:only-of-type {\n",
       "        vertical-align: middle;\n",
       "    }\n",
       "\n",
       "    .dataframe tbody tr th {\n",
       "        vertical-align: top;\n",
       "    }\n",
       "\n",
       "    .dataframe thead th {\n",
       "        text-align: right;\n",
       "    }\n",
       "</style>\n",
       "<table border=\"1\" class=\"dataframe\">\n",
       "  <thead>\n",
       "    <tr style=\"text-align: right;\">\n",
       "      <th></th>\n",
       "      <th>Saldo Promedio</th>\n",
       "      <th>Deuda Sistea,</th>\n",
       "      <th>Pasivo</th>\n",
       "      <th>Venta</th>\n",
       "      <th>Deuda rezagada va</th>\n",
       "      <th>Deuda rezagada vr</th>\n",
       "      <th>pasivo rezagada va</th>\n",
       "      <th>Pasivo_desembolso dr</th>\n",
       "      <th>si_1</th>\n",
       "      <th>si_2</th>\n",
       "      <th>si_3</th>\n",
       "      <th>si_4</th>\n",
       "    </tr>\n",
       "  </thead>\n",
       "  <tbody>\n",
       "    <tr>\n",
       "      <th>0</th>\n",
       "      <td>-1.023</td>\n",
       "      <td>-1.328</td>\n",
       "      <td>0.344</td>\n",
       "      <td>0.703</td>\n",
       "      <td>0.128</td>\n",
       "      <td>-0.057</td>\n",
       "      <td>0.331</td>\n",
       "      <td>-0.137</td>\n",
       "      <td>0</td>\n",
       "      <td>0</td>\n",
       "      <td>1</td>\n",
       "      <td>0</td>\n",
       "    </tr>\n",
       "    <tr>\n",
       "      <th>1</th>\n",
       "      <td>-0.364</td>\n",
       "      <td>-0.903</td>\n",
       "      <td>0.088</td>\n",
       "      <td>0.656</td>\n",
       "      <td>0.019</td>\n",
       "      <td>-0.169</td>\n",
       "      <td>0.043</td>\n",
       "      <td>-0.182</td>\n",
       "      <td>0</td>\n",
       "      <td>0</td>\n",
       "      <td>0</td>\n",
       "      <td>1</td>\n",
       "    </tr>\n",
       "    <tr>\n",
       "      <th>2</th>\n",
       "      <td>0.937</td>\n",
       "      <td>0.311</td>\n",
       "      <td>0.189</td>\n",
       "      <td>0.339</td>\n",
       "      <td>0.206</td>\n",
       "      <td>0.131</td>\n",
       "      <td>0.375</td>\n",
       "      <td>-0.108</td>\n",
       "      <td>1</td>\n",
       "      <td>0</td>\n",
       "      <td>0</td>\n",
       "      <td>0</td>\n",
       "    </tr>\n",
       "    <tr>\n",
       "      <th>3</th>\n",
       "      <td>0.089</td>\n",
       "      <td>-0.393</td>\n",
       "      <td>-0.882</td>\n",
       "      <td>0.620</td>\n",
       "      <td>0.968</td>\n",
       "      <td>1.086</td>\n",
       "      <td>-0.306</td>\n",
       "      <td>-0.204</td>\n",
       "      <td>0</td>\n",
       "      <td>0</td>\n",
       "      <td>1</td>\n",
       "      <td>0</td>\n",
       "    </tr>\n",
       "    <tr>\n",
       "      <th>4</th>\n",
       "      <td>-0.642</td>\n",
       "      <td>-0.106</td>\n",
       "      <td>-0.975</td>\n",
       "      <td>1.436</td>\n",
       "      <td>1.110</td>\n",
       "      <td>0.998</td>\n",
       "      <td>0.223</td>\n",
       "      <td>-0.205</td>\n",
       "      <td>0</td>\n",
       "      <td>0</td>\n",
       "      <td>0</td>\n",
       "      <td>1</td>\n",
       "    </tr>\n",
       "    <tr>\n",
       "      <th>...</th>\n",
       "      <td>...</td>\n",
       "      <td>...</td>\n",
       "      <td>...</td>\n",
       "      <td>...</td>\n",
       "      <td>...</td>\n",
       "      <td>...</td>\n",
       "      <td>...</td>\n",
       "      <td>...</td>\n",
       "      <td>...</td>\n",
       "      <td>...</td>\n",
       "      <td>...</td>\n",
       "      <td>...</td>\n",
       "    </tr>\n",
       "    <tr>\n",
       "      <th>1993</th>\n",
       "      <td>-1.670</td>\n",
       "      <td>-1.763</td>\n",
       "      <td>-0.314</td>\n",
       "      <td>-1.098</td>\n",
       "      <td>0.132</td>\n",
       "      <td>-2.033</td>\n",
       "      <td>0.183</td>\n",
       "      <td>-0.178</td>\n",
       "      <td>0</td>\n",
       "      <td>0</td>\n",
       "      <td>0</td>\n",
       "      <td>1</td>\n",
       "    </tr>\n",
       "    <tr>\n",
       "      <th>1994</th>\n",
       "      <td>-0.955</td>\n",
       "      <td>-0.781</td>\n",
       "      <td>-0.208</td>\n",
       "      <td>-1.027</td>\n",
       "      <td>-0.123</td>\n",
       "      <td>-0.342</td>\n",
       "      <td>-0.096</td>\n",
       "      <td>-0.192</td>\n",
       "      <td>0</td>\n",
       "      <td>0</td>\n",
       "      <td>0</td>\n",
       "      <td>1</td>\n",
       "    </tr>\n",
       "    <tr>\n",
       "      <th>1995</th>\n",
       "      <td>1.322</td>\n",
       "      <td>0.827</td>\n",
       "      <td>-0.807</td>\n",
       "      <td>1.501</td>\n",
       "      <td>0.537</td>\n",
       "      <td>0.162</td>\n",
       "      <td>-0.117</td>\n",
       "      <td>-0.202</td>\n",
       "      <td>0</td>\n",
       "      <td>0</td>\n",
       "      <td>1</td>\n",
       "      <td>0</td>\n",
       "    </tr>\n",
       "    <tr>\n",
       "      <th>1996</th>\n",
       "      <td>-1.549</td>\n",
       "      <td>-0.302</td>\n",
       "      <td>0.245</td>\n",
       "      <td>-0.008</td>\n",
       "      <td>-0.037</td>\n",
       "      <td>-0.094</td>\n",
       "      <td>-0.366</td>\n",
       "      <td>-0.192</td>\n",
       "      <td>0</td>\n",
       "      <td>0</td>\n",
       "      <td>1</td>\n",
       "      <td>0</td>\n",
       "    </tr>\n",
       "    <tr>\n",
       "      <th>1997</th>\n",
       "      <td>0.127</td>\n",
       "      <td>0.724</td>\n",
       "      <td>-0.314</td>\n",
       "      <td>-0.473</td>\n",
       "      <td>-1.262</td>\n",
       "      <td>-0.490</td>\n",
       "      <td>0.183</td>\n",
       "      <td>-0.178</td>\n",
       "      <td>0</td>\n",
       "      <td>0</td>\n",
       "      <td>0</td>\n",
       "      <td>1</td>\n",
       "    </tr>\n",
       "  </tbody>\n",
       "</table>\n",
       "<p>1998 rows × 12 columns</p>\n",
       "</div>"
      ],
      "text/plain": [
       "      Saldo Promedio  Deuda Sistea,  Pasivo  Venta   Deuda rezagada va  Deuda rezagada vr  \\\n",
       "0             -1.023         -1.328   0.344   0.703              0.128             -0.057   \n",
       "1             -0.364         -0.903   0.088   0.656              0.019             -0.169   \n",
       "2              0.937          0.311   0.189   0.339              0.206              0.131   \n",
       "3              0.089         -0.393  -0.882   0.620              0.968              1.086   \n",
       "4             -0.642         -0.106  -0.975   1.436              1.110              0.998   \n",
       "...              ...            ...     ...     ...                ...                ...   \n",
       "1993          -1.670         -1.763  -0.314  -1.098              0.132             -2.033   \n",
       "1994          -0.955         -0.781  -0.208  -1.027             -0.123             -0.342   \n",
       "1995           1.322          0.827  -0.807   1.501              0.537              0.162   \n",
       "1996          -1.549         -0.302   0.245  -0.008             -0.037             -0.094   \n",
       "1997           0.127          0.724  -0.314  -0.473             -1.262             -0.490   \n",
       "\n",
       "      pasivo rezagada va  Pasivo_desembolso dr  si_1  si_2  si_3  si_4  \n",
       "0                  0.331                -0.137     0     0     1     0  \n",
       "1                  0.043                -0.182     0     0     0     1  \n",
       "2                  0.375                -0.108     1     0     0     0  \n",
       "3                 -0.306                -0.204     0     0     1     0  \n",
       "4                  0.223                -0.205     0     0     0     1  \n",
       "...                  ...                   ...   ...   ...   ...   ...  \n",
       "1993               0.183                -0.178     0     0     0     1  \n",
       "1994              -0.096                -0.192     0     0     0     1  \n",
       "1995              -0.117                -0.202     0     0     1     0  \n",
       "1996              -0.366                -0.192     0     0     1     0  \n",
       "1997               0.183                -0.178     0     0     0     1  \n",
       "\n",
       "[1998 rows x 12 columns]"
      ]
     },
     "execution_count": 55,
     "metadata": {},
     "output_type": "execute_result"
    }
   ],
   "source": [
    "## Juntando los datos con las variables categóricas\n",
    "df_final = pd.concat([df_features,df5], axis =1)\n",
    "df_final"
   ]
  },
  {
   "cell_type": "markdown",
   "metadata": {},
   "source": [
    "<div style=\"text-align: right\"> <font size=5>\n",
    "    <a href=\"#indice\"><i class=\"fa fa-arrow-circle-up\" aria-hidden=\"true\" style=\"color:#004D7F\"></i></a>\n",
    "</font></div>\n",
    "\n",
    "---"
   ]
  },
  {
   "cell_type": "markdown",
   "metadata": {},
   "source": [
    "<a id=\"section5\"></a>\n",
    "# <font color=\"#004D7F\"> 5. Fase de Optimización</font>"
   ]
  },
  {
   "cell_type": "markdown",
   "metadata": {},
   "source": [
    "En esta sección investigamos el ajuste de los parámetros para dos algoritmos que muestran mejores resultados, estos son: SVM ."
   ]
  },
  {
   "cell_type": "markdown",
   "metadata": {},
   "source": [
    "<a id=\"section51\"></a>\n",
    "## <font color=\"#004D7F\"> 5.1. Optimización de LGBM</font>"
   ]
  },
  {
   "cell_type": "markdown",
   "metadata": {},
   "source": [
    "Si bien LGBM no era de los que nos dio mayor accuracy, pero era de los que podíamos tomar y lo estamos optimizando debido a que se puede configurar muchos de sus hiperparámetros\n",
    "Veremos a continuación cuál es el comportamiento con diferentes hiperparámetros.<br>\n",
    "Realizaremos un `RandomizedSearchCV` utilizando una validación cruzada de 10 con una copia estandarizada del conjunto de datos de entrenamiento"
   ]
  },
  {
   "cell_type": "code",
   "execution_count": 56,
   "metadata": {},
   "outputs": [],
   "source": [
    "# Split-out validation dataset\n",
    "Y = df[\"Impactado\"].values\n",
    "#df2 = df2.drop([\"Impactado\"], axis = 1 )\n",
    "X = df_final.values\n",
    "\n",
    "validation_size = 0.20\n",
    "seed = 7\n",
    "X_train, X_validation, Y_train, Y_validation = train_test_split(X, Y, test_size=validation_size, random_state=seed)\n",
    "\n",
    "# Test options and evaluation metric\n",
    "param = {'boosting_type': [\"gbdt\",\"rf\",\"goss\",\"dart\"], \n",
    "         'n_estimators':[50, 100, 150, 1000],\n",
    "          'max_depth': [2,4],\n",
    "          'min_child_samples': [20,50,100,500,1000],\n",
    "          'n_jobs': [1,2,4]}\n",
    "\n",
    "num_folds = 10\n",
    "seed = 4\n",
    "scoring = \"accuracy\""
   ]
  },
  {
   "cell_type": "code",
   "execution_count": 57,
   "metadata": {},
   "outputs": [
    {
     "name": "stdout",
     "output_type": "stream",
     "text": [
      "Best accuracy: 0.609540 using {'n_jobs': 2, 'n_estimators': 50, 'min_child_samples': 20, 'max_depth': 2, 'boosting_type': 'gbdt'}\n",
      "{'n_jobs': 2, 'n_estimators': 100, 'min_child_samples': 500, 'max_depth': 2, 'boosting_type': 'rf'}: nan% (nan%)\n",
      "{'n_jobs': 2, 'n_estimators': 100, 'min_child_samples': 100, 'max_depth': 4, 'boosting_type': 'gbdt'}: 58.45% (4.61%)\n",
      "{'n_jobs': 2, 'n_estimators': 150, 'min_child_samples': 1000, 'max_depth': 2, 'boosting_type': 'goss'}: 49.13% (4.47%)\n",
      "{'n_jobs': 2, 'n_estimators': 150, 'min_child_samples': 1000, 'max_depth': 2, 'boosting_type': 'rf'}: nan% (nan%)\n",
      "{'n_jobs': 1, 'n_estimators': 100, 'min_child_samples': 20, 'max_depth': 2, 'boosting_type': 'rf'}: nan% (nan%)\n",
      "{'n_jobs': 2, 'n_estimators': 50, 'min_child_samples': 20, 'max_depth': 2, 'boosting_type': 'gbdt'}: 60.95% (4.80%)\n",
      "{'n_jobs': 1, 'n_estimators': 1000, 'min_child_samples': 50, 'max_depth': 4, 'boosting_type': 'rf'}: nan% (nan%)\n",
      "{'n_jobs': 2, 'n_estimators': 100, 'min_child_samples': 20, 'max_depth': 4, 'boosting_type': 'goss'}: 57.39% (5.23%)\n",
      "{'n_jobs': 4, 'n_estimators': 100, 'min_child_samples': 500, 'max_depth': 2, 'boosting_type': 'dart'}: 56.57% (4.32%)\n",
      "{'n_jobs': 4, 'n_estimators': 150, 'min_child_samples': 100, 'max_depth': 2, 'boosting_type': 'dart'}: 59.51% (4.37%)\n"
     ]
    }
   ],
   "source": [
    "# Tune scaled LGBM\n",
    "model = LGBMClassifier()\n",
    "kfold = KFold(n_splits=num_folds)\n",
    "grid = RandomizedSearchCV(model, param, scoring=scoring, cv=kfold)\n",
    "grid_result = grid.fit(X_train, Y_train)\n",
    "print(\"Best accuracy: %f using %s\" % (grid_result.best_score_, grid_result.best_params_))\n",
    "means = grid_result.cv_results_['mean_test_score']\n",
    "stds = grid_result.cv_results_['std_test_score']\n",
    "params = grid_result.cv_results_['params']\n",
    "for mean, stdev, param in zip(means, stds, params):\n",
    "    print(f\"{param}: {mean*100.0:,.2f}% ({stdev*100.0:,.2f}%)\")"
   ]
  },
  {
   "cell_type": "markdown",
   "metadata": {},
   "source": [
    "Podemos ver que la configuración óptima es n_jobs = 2, n_estimators = 50, min:child_samples = 20 y boosting_type = 'gbdt'. Esto es interesante ya que el algoritmo hará predicciones utilizando la instancia más similar en el conjunto de datos de entrenamiento solo. Para este caso nos dió un Accuracy de 0.6095"
   ]
  },
  {
   "cell_type": "markdown",
   "metadata": {},
   "source": [
    "<a id=\"section52\"></a>\n",
    "## <font color=\"#004D7F\"> 5.2. Optimización de SVM</font>"
   ]
  },
  {
   "cell_type": "markdown",
   "metadata": {},
   "source": [
    "Podemos ajustar dos parámetros clave del algoritmo SVM, el valor de _C_ (cuánto relajar el margen) y el tipo de _kernel_. El valor predeterminado para SVM (la clase SVC) es usar el _kernel_ de la función de base radial _(RBF)_ con un valor de _C_ establecido en 1.0. Realizaremos un `RandomizedSearchCV` utilizando una validación cruzada de 10 con una copia estandarizada del conjunto de datos de entrenamiento. Intentaremos una serie de tipos de _kernel_ más simples y valores de _C_ con menos sesgo y más sesgo (menor que y más de 1.0 respectivamente)."
   ]
  },
  {
   "cell_type": "code",
   "execution_count": 58,
   "metadata": {},
   "outputs": [],
   "source": [
    "# Split-out validation dataset\n",
    "Y = df[\"Impactado\"].values\n",
    "#df2 = df2.drop([\"Impactado\"], axis = 1 )\n",
    "X = df_final.values\n",
    "\n",
    "validation_size = 0.20\n",
    "seed = 7\n",
    "X_train, X_validation, Y_train, Y_validation = train_test_split(X, Y, test_size=validation_size, random_state=seed)\n",
    "\n",
    "# Test options and evaluation metric\n",
    "num_folds = 10\n",
    "seed = 4\n",
    "scoring = 'accuracy'"
   ]
  },
  {
   "cell_type": "code",
   "execution_count": 59,
   "metadata": {},
   "outputs": [
    {
     "name": "stdout",
     "output_type": "stream",
     "text": [
      "Best: 0.601360 using {'kernel': 'linear', 'C': 1.7}\n",
      "{'kernel': 'rbf', 'C': 1.5}: 59.20% (2.88%)\n",
      "{'kernel': 'poly', 'C': 2.0}: 56.88% (2.58%)\n",
      "{'kernel': 'linear', 'C': 0.3}: 59.95% (3.90%)\n",
      "{'kernel': 'poly', 'C': 1.0}: 57.57% (3.53%)\n",
      "{'kernel': 'poly', 'C': 1.5}: 56.88% (3.13%)\n",
      "{'kernel': 'linear', 'C': 0.7}: 60.01% (3.83%)\n",
      "{'kernel': 'poly', 'C': 0.3}: 57.45% (4.01%)\n",
      "{'kernel': 'linear', 'C': 1.7}: 60.14% (3.76%)\n",
      "{'kernel': 'sigmoid', 'C': 1.5}: 50.56% (2.96%)\n",
      "{'kernel': 'sigmoid', 'C': 2.0}: 50.19% (3.09%)\n"
     ]
    }
   ],
   "source": [
    "# Tune scaled SVM\n",
    "c_values = [0.1, 0.3, 0.5, 0.7, 0.9, 1.0, 1.3, 1.5, 1.7, 2.0]\n",
    "kernel_values = ['linear', 'poly', 'rbf', 'sigmoid']\n",
    "param_grid = dict(C=c_values, kernel=kernel_values)\n",
    "model = SVC()\n",
    "#kfold = KFold(n_splits=num_folds, random_state=seed)\n",
    "kfold = KFold(n_splits=num_folds)\n",
    "grid = RandomizedSearchCV(model, param_grid, scoring=scoring, cv=kfold)\n",
    "grid_result = grid.fit(X_train, Y_train)\n",
    "print(\"Best: %f using %s\" % (grid_result.best_score_, grid_result.best_params_))\n",
    "means = grid_result.cv_results_['mean_test_score']\n",
    "stds = grid_result.cv_results_['std_test_score']\n",
    "params = grid_result.cv_results_['params']\n",
    "for mean, stdev, param in zip(means, stds, params):\n",
    "    print(f\"{param}: {mean*100.0:,.2f}% ({stdev*100.0:,.2f}%)\")"
   ]
  },
  {
   "cell_type": "markdown",
   "metadata": {},
   "source": [
    "<div class=\"alert alert-block alert-warning\">\n",
    "<i class=\"fa fa-exclamation-circle\" aria-hidden=\"true\"></i>\n",
    "\n",
    "Importante: Al parecer hay un bug en \"sklearn\" y \"KFold\" o una configuración diferente, pues ahora para kfold = KFold(n_splits=num_folds, random_state=seed), exige random_state = None y shuffle = False, en caso que se quiera cambiar la semilla nos da error; por eso solo puse el nro de kflods\n",
    "</div>"
   ]
  },
  {
   "cell_type": "markdown",
   "metadata": {},
   "source": [
    "Podemos ver que la configuración más precisa fue SVM con un _kernel linear y un valor _C_ de 1.7. La precisión del 60.1360% es un poco menor de lo que LGBM logró, diríamos que casi nos dan el mismo valor del Accuracy."
   ]
  },
  {
   "cell_type": "markdown",
   "metadata": {},
   "source": [
    "<div style=\"text-align: right\"> <font size=5>\n",
    "    <a href=\"#indice\"><i class=\"fa fa-arrow-circle-up\" aria-hidden=\"true\" style=\"color:#004D7F\"></i></a>\n",
    "</font></div>\n",
    "\n",
    "---"
   ]
  },
  {
   "cell_type": "markdown",
   "metadata": {},
   "source": [
    "<a id=\"section6\"></a>\n",
    "# <font color=\"#004D7F\"> 6. Algoritmos ensamblados</font>"
   ]
  },
  {
   "cell_type": "markdown",
   "metadata": {},
   "source": [
    "Otra forma en que podemos mejorar el rendimiento de los algoritmos en este problema es mediante el uso de modelos ensamblados. En esta sección evaluaremos cuatro algoritmos ensamblados diferentes, dos tipo Boosting y dos tipo  Bagging:\n",
    "* Métodos Boosting: AdaBoost (AB) y Gradient Boosting (GBM).\n",
    "* Métodos Bagging: Random Forest (RF) y Extra Trees (ET).\n",
    "\n",
    "Utilizaresmo una validación cruzada de 10. No se utiliza la estandarización de datos en este caso porque los cuatro algoritmos de conjunto se basan en árboles de decisión que son menos sensibles a las distribuciones de datos."
   ]
  },
  {
   "cell_type": "code",
   "execution_count": 60,
   "metadata": {},
   "outputs": [
    {
     "name": "stdout",
     "output_type": "stream",
     "text": [
      "AB: 50.19% (3.09%)\n",
      "GBM: 50.19% (3.09%)\n",
      "RF: 50.19% (3.09%)\n",
      "ET: 50.19% (3.09%)\n"
     ]
    }
   ],
   "source": [
    "# ensembles\n",
    "ensembles = []\n",
    "ensembles.append(('AB', AdaBoostClassifier()))\n",
    "ensembles.append(('GBM', GradientBoostingClassifier()))\n",
    "ensembles.append(('RF', RandomForestClassifier()))\n",
    "ensembles.append(('ET', ExtraTreesClassifier()))\n",
    "results = []\n",
    "names = []\n",
    "for name, model in ensembles:\n",
    "    #kfold = KFold(n_splits=num_folds, random_state=seed)\n",
    "    kfold = KFold(n_splits=num_folds)\n",
    "    cv_results = cross_val_score(model, X_train, Y_train, cv=kfold, scoring=scoring)\n",
    "    results.append(cv_results)\n",
    "    names.append(name)\n",
    "    print(f\"{name}: {mean*100.0:,.2f}% ({stdev*100.0:,.2f}%)\")"
   ]
  },
  {
   "cell_type": "markdown",
   "metadata": {},
   "source": [
    "<div class=\"alert alert-block alert-warning\">\n",
    "<i class=\"fa fa-exclamation-circle\" aria-hidden=\"true\"></i>\n",
    "\n",
    "Importante: Al parecer hay un bug en \"sklearn\" y \"KFold\" o una configuración diferente, pues ahora para kfold = KFold(n_splits=num_folds, random_state=seed), exige random_state = None y shuffle = False, en caso que se quiera cambiar la semilla nos da error; por eso solo puse el nro de kflods\n",
    "</div>"
   ]
  },
  {
   "cell_type": "markdown",
   "metadata": {},
   "source": [
    "Podemos ver que los valores de Accuracy bajos (por debajo de 57% de SVM de la línea base) con configuraciones predeterminadas, por lo que no merecen optimizar; LGBM y SVM nos dan un mejor Accuracy."
   ]
  },
  {
   "cell_type": "code",
   "execution_count": 61,
   "metadata": {
    "scrolled": true
   },
   "outputs": [
    {
     "data": {
      "image/png": "[encoded data removed]",
      "text/plain": [
       "<Figure size 432x288 with 1 Axes>"
      ]
     },
     "metadata": {
      "needs_background": "light"
     },
     "output_type": "display_data"
    }
   ],
   "source": [
    "# Compare Algorithms\n",
    "fig = plt.figure()\n",
    "fig.suptitle('Ensemble Algorithm Comparison')\n",
    "ax = fig.add_subplot(111)\n",
    "plt.boxplot(results)\n",
    "ax.set_xticklabels(names)\n",
    "plt.show()"
   ]
  },
  {
   "cell_type": "markdown",
   "metadata": {},
   "source": [
    "Los resultados sugieren que podemos utilizar LGBM o SVM para nuestro modelo ya que nos dan casi los mismos resultados del Accuracy."
   ]
  },
  {
   "cell_type": "markdown",
   "metadata": {},
   "source": [
    "<div style=\"text-align: right\"> <font size=5>\n",
    "    <a href=\"#indice\"><i class=\"fa fa-arrow-circle-up\" aria-hidden=\"true\" style=\"color:#004D7F\"></i></a>\n",
    "</font></div>\n",
    "\n",
    "---"
   ]
  },
  {
   "cell_type": "markdown",
   "metadata": {},
   "source": [
    "<a id=\"section7\"></a>\n",
    "# <font color=\"#004D7F\"> 7. Fase de Forecasting</font>"
   ]
  },
  {
   "cell_type": "markdown",
   "metadata": {},
   "source": [
    "El LGBM mostró el mejor resultado como un modelo estable y de baja complejidad para este problema. En esta sección finalizaremos el modelo entrenándolo en todo el conjunto de datos de entrenamiento y haremos predicciones para el conjunto de datos de validación para confirmar nuestros hallazgos. \n",
    "\n",
    "Una parte de los resultados fue que SVM funciona mejor cuando el conjunto de datos está estandarizado, de modo que todos los atributos tienen un valor medio de cero y una desviación estándar de uno. Podemos calcular esto a partir del conjunto de datos de entrenamiento completo y aplicar la misma transformación a los atributos de entrada del conjunto de datos de validación."
   ]
  },
  {
   "cell_type": "code",
   "execution_count": 62,
   "metadata": {},
   "outputs": [],
   "source": [
    "# Split-out validation dataset\n",
    "Y = df[\"Impactado\"].values\n",
    "#df2 = df2.drop([\"Impactado\"], axis = 1 )\n",
    "X = df_final.values\n",
    "\n",
    "validation_size = 0.20\n",
    "seed = 7\n",
    "X_train, X_validation, Y_train, Y_validation = train_test_split(X, Y, test_size=validation_size, random_state=seed)\n",
    "\n",
    "# Test options and evaluation metric\n",
    "num_folds = 10\n",
    "seed = 4\n",
    "scoring = 'accuracy'"
   ]
  },
  {
   "cell_type": "code",
   "execution_count": 64,
   "metadata": {},
   "outputs": [
    {
     "name": "stdout",
     "output_type": "stream",
     "text": [
      "0.5875\n",
      "[[ 97 113]\n",
      " [ 52 138]]\n",
      "              precision    recall  f1-score   support\n",
      "\n",
      "           0       0.65      0.46      0.54       210\n",
      "           1       0.55      0.73      0.63       190\n",
      "\n",
      "    accuracy                           0.59       400\n",
      "   macro avg       0.60      0.59      0.58       400\n",
      "weighted avg       0.60      0.59      0.58       400\n",
      "\n"
     ]
    }
   ],
   "source": [
    "# Finalize Model\n",
    "# prepare the model\n",
    "#scaler = StandardScaler().fit(X_train)\n",
    "#rescaledX = scaler.transform(X_train)\n",
    "model = SVC(C=1.5, kernel='linear')\n",
    "model = LGBMClassifier(n_jobs=2, n_estimators= 50, min_child_samples = 20, max_depth = 2, boosting_type = 'gbdt')\n",
    "model.fit(X_train, Y_train)\n",
    "# estimate accuracy on validation dataset\n",
    "ValidationX = X_validation #scaler.transform(X_validation)\n",
    "predictions = model.predict(ValidationX)\n",
    "print(accuracy_score(Y_validation, predictions))\n",
    "print(confusion_matrix(Y_validation, predictions))\n",
    "print(classification_report(Y_validation, predictions))"
   ]
  },
  {
   "cell_type": "markdown",
   "metadata": {},
   "source": [
    "El accuracy de validación es de <b>58.75%</b>, un poco más bajo que el de entrenamiento de <b>60.95%</b>, aunque están cercanos los valores.<br>\n",
    "De la Matriz de Confusión apreciamos que de la clase 0 tiene 97 aciertos, de la clase 1, 138."
   ]
  },
  {
   "cell_type": "markdown",
   "metadata": {},
   "source": [
    "Con un Threshold de 0.5 calcularemos el accuracy para comprobar que el modelo ya nos da esos datos."
   ]
  },
  {
   "cell_type": "code",
   "execution_count": 70,
   "metadata": {},
   "outputs": [],
   "source": [
    "probs = predictions\n",
    "m=pd.DataFrame(data=probs,columns = ['Probs'])\n",
    "\n",
    "Y2=pd.DataFrame(Y_validation, columns = [\"y\"])\n",
    "Y2['Probs']=m\n",
    "\n",
    "threshold = 0.5\n",
    "Y2[\"prediction\"]=np.where(probs>threshold, 1, 0)\n",
    "\n",
    "conf_matrix = pd.crosstab(Y2.prediction, Y2.y)"
   ]
  },
  {
   "cell_type": "code",
   "execution_count": 69,
   "metadata": {},
   "outputs": [
    {
     "data": {
      "text/plain": [
       "0.5875"
      ]
     },
     "execution_count": 69,
     "metadata": {},
     "output_type": "execute_result"
    }
   ],
   "source": [
    "TN=conf_matrix[0][0]\n",
    "TP=conf_matrix[1][1]\n",
    "FN=conf_matrix[0][1]\n",
    "FP=conf_matrix[1][0]\n",
    "final=(TP+TN)/(TN+TP+FN+FP)\n",
    "final"
   ]
  },
  {
   "cell_type": "markdown",
   "metadata": {},
   "source": [
    "<div style=\"text-align: right\"> <font size=5>\n",
    "    <a href=\"#indice\"><i class=\"fa fa-arrow-circle-up\" aria-hidden=\"true\" style=\"color:#004D7F\"></i></a>\n",
    "</font></div>\n",
    "\n",
    "---\n",
    "\n",
    "<div style=\"text-align: right\"> <font size=6><i class=\"fa fa-coffee\" aria-hidden=\"true\" style=\"color:#004D7F\"></i> </font></div>"
   ]
  }
 ],
 "metadata": {
  "kernelspec": {
   "display_name": "Python 3.10.7 64-bit",
   "language": "python",
   "name": "python3"
  },
  "language_info": {
   "codemirror_mode": {
    "name": "ipython",
    "version": 3
   },
   "file_extension": ".py",
   "mimetype": "text/x-python",
   "name": "python",
   "nbconvert_exporter": "python",
   "pygments_lexer": "ipython3",
   "version": "3.10.7"
  },
  "toc": {
   "base_numbering": 1,
   "nav_menu": {},
   "number_sections": false,
   "sideBar": true,
   "skip_h1_title": true,
   "title_cell": "Table of Contents",
   "title_sidebar": "Contents",
   "toc_cell": false,
   "toc_position": {},
   "toc_section_display": true,
   "toc_window_display": false
  },
  "vscode": {
   "interpreter": {
    "hash": "90b988ac8eaf2e2d4e84c82b041888c0158b8ba43bc21a30bfbf6ca3a55b3f8e"
   }
  }
 },
 "nbformat": 4,
 "nbformat_minor": 2
}
